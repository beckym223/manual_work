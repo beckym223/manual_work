{
 "cells": [
  {
   "cell_type": "code",
   "execution_count": 18,
   "id": "d26f4a97-f7ca-4ad9-8fa8-a833383146e1",
   "metadata": {
    "execution": {
     "iopub.execute_input": "2024-11-07T20:25:01.221693Z",
     "iopub.status.busy": "2024-11-07T20:25:01.214140Z",
     "iopub.status.idle": "2024-11-07T20:25:01.290987Z",
     "shell.execute_reply": "2024-11-07T20:25:01.288965Z",
     "shell.execute_reply.started": "2024-11-07T20:25:01.221566Z"
    },
    "tags": []
   },
   "outputs": [],
   "source": [
    "import os\n",
    "import shutil\n",
    "import re\n",
    "import itertools as it\n",
    "text_dir = \"E1/texts\"\n",
    "dest_dir = \"E1/temp_texts\"\n",
    "def reset():\n",
    "    if os.path.exists(dest_dir):\n",
    "        shutil.rmtree(dest_dir)\n",
    "    shutil.copytree(text_dir,dest_dir)"
   ]
  },
  {
   "cell_type": "code",
   "execution_count": 2,
   "id": "2a5a0959-e314-4fca-9c80-ae93f288e712",
   "metadata": {
    "execution": {
     "iopub.execute_input": "2024-11-07T19:47:55.675792Z",
     "iopub.status.busy": "2024-11-07T19:47:55.668017Z",
     "iopub.status.idle": "2024-11-07T19:47:55.697126Z",
     "shell.execute_reply": "2024-11-07T19:47:55.695451Z",
     "shell.execute_reply.started": "2024-11-07T19:47:55.674747Z"
    }
   },
   "outputs": [],
   "source": [
    "# jstor cover\n",
    "# Every page except for the title and cover page had exactly one header line\n",
    "# Page 00 was cover\n",
    "# Page num at bottom in 1888-0-1, a couple other floating numbers we can get rid of\n",
    "# only footnotes 1889 pages 1 and 24\n",
    "# Title page:\n",
    "    #1888: Get rid of top 5 lines\n",
    "    #1889 get rid of top 2 lines, bottom 4"
   ]
  },
  {
   "cell_type": "code",
   "execution_count": 21,
   "id": "ee227fc1-5bb8-46c5-b32f-5fe3a598e183",
   "metadata": {
    "execution": {
     "iopub.execute_input": "2024-11-07T20:27:04.105977Z",
     "iopub.status.busy": "2024-11-07T20:27:04.097645Z",
     "iopub.status.idle": "2024-11-07T20:27:04.496284Z",
     "shell.execute_reply": "2024-11-07T20:27:04.495801Z",
     "shell.execute_reply.started": "2024-11-07T20:27:04.105833Z"
    },
    "tags": []
   },
   "outputs": [],
   "source": [
    "\"\"\"→for file in files:\n",
    "→if page is ‘00’:\n",
    "→remove page\n",
    "\"\"\"\n",
    "reset()\n",
    "files = os.listdir(dest_dir)\n",
    "files.sort()\n",
    "for file in files:\n",
    "    disc,year,num,pagetxt = file.split(\"-\")\n",
    "    page=int(pagetxt[:-4])\n",
    "    if page==0:\n",
    "        os.remove(os.path.join(dest_dir,file))"
   ]
  },
  {
   "cell_type": "code",
   "execution_count": null,
   "id": "52c7d771-a932-42c1-8c97-09d26db1762d",
   "metadata": {
    "execution": {
     "iopub.execute_input": "2024-11-07T20:27:05.373047Z",
     "iopub.status.busy": "2024-11-07T20:27:05.372560Z",
     "iopub.status.idle": "2024-11-07T20:27:05.542441Z",
     "shell.execute_reply": "2024-11-07T20:27:05.541814Z",
     "shell.execute_reply.started": "2024-11-07T20:27:05.373013Z"
    },
    "tags": []
   },
   "outputs": [],
   "source": [
    "\"\"\"→for page in pages:\n",
    "get rid of jstor footer\n",
    "→split text into lines\n",
    "→strip whitespace from edges of each line\n",
    "if not title page:\n",
    "    Only Get everything after first line\n",
    "    if length of last line is 1, delete that line\n",
    "    if year = 1889 and page=24:\n",
    "        get rid of the bottom line\n",
    "else:\n",
    "    if year is 1888:\n",
    "        get rid of top 5 lines\n",
    "    else:\n",
    "        get rid of top 2, bottom 4 lines\n",
    "join lines together\n",
    "strip whole text\n",
    "    \n",
    "\"\"\"\n",
    "files = os.listdir(dest_dir)\n",
    "files.sort()\n",
    "for file in files:\n",
    "    if file[0]=='.':\n",
    "        continue\n",
    "    disc,year,num,pagetxt = file.split(\"-\")\n",
    "    page=int(pagetxt[:-4])\n",
    "    path = os.path.join(dest_dir,file)\n",
    "    \n",
    "    text = open(path,'r').read()\n",
    "    jstor_split = text.split(\"This content downloaded from\")\n",
    "    text =jstor_split[0].strip()\n",
    "    lines = text.split(\"\\n\")\n",
    "    lines = [l.strip() for l in lines]\n",
    "    if page!=1:\n",
    "        save_lines = lines[1:]\n",
    "        if len(save_lines[-1])==1 or (year=='1889' and page==24):\n",
    "            print(f\"Deleting line with '{save_lines[-1]}'\")\n",
    "            save_lines = save_lines[:-1]\n",
    "    elif year=='1888': # get the first page on 1888\n",
    "        #print(f\"First page in 1888: {file}\")\n",
    "        save_lines = lines[5:]\n",
    "    else: # only one left is 1889\n",
    "        #print(f\"First page for 1889: {file}\")\n",
    "        save_lines = lines[2:-3]\n",
    "    text = \"\\n\".join(save_lines)\n",
    "    with open(path,'w') as f:\n",
    "        f.write(text)"
   ]
  },
  {
   "cell_type": "code",
   "execution_count": 23,
   "id": "800d65b5-3353-4acc-a3a5-009ab13afc68",
   "metadata": {
    "execution": {
     "iopub.execute_input": "2024-11-07T20:27:06.830366Z",
     "iopub.status.busy": "2024-11-07T20:27:06.827022Z",
     "iopub.status.idle": "2024-11-07T20:27:06.963098Z",
     "shell.execute_reply": "2024-11-07T20:27:06.962657Z",
     "shell.execute_reply.started": "2024-11-07T20:27:06.830272Z"
    },
    "tags": []
   },
   "outputs": [],
   "source": [
    "### Deal with line breaks across pages\n",
    "files = os.listdir(dest_dir)\n",
    "files.sort()\n",
    "for first,second in it.pairwise(files):\n",
    "    if not first.split(\"-\")[:3]==second.split('-')[:3]:\n",
    "        continue\n",
    "    path1 = os.path.join(dest_dir,first)\n",
    "    text1 = open(path1,'r').read()\n",
    "    if text1[-1]==\"-\":\n",
    "        #print(first)\n",
    "        #print(text1.strip().split(\"\\n\")[-1])\n",
    "        path2 = os.path.join(dest_dir,second)\n",
    "        text2 = open(path2,'r').read()\n",
    "        first_word = re.search(\"^([^\\s]+)\\s\",text2).group(1)\n",
    "        new_text2 = re.sub(\"^[^\\s]+\\s\",\"\",text2)\n",
    "        #print(first_word)\n",
    "        \n",
    "        new_text1 = text1[:-1]+first_word\n",
    "        open(path1,'w').write(new_text1.strip())\n",
    "        open(path2,'w').write(new_text2.strip())"
   ]
  },
  {
   "cell_type": "code",
   "execution_count": 24,
   "id": "582929e7-365d-48bb-a88e-65b5b7f6565a",
   "metadata": {
    "execution": {
     "iopub.execute_input": "2024-11-07T20:27:47.126862Z",
     "iopub.status.busy": "2024-11-07T20:27:47.124452Z",
     "iopub.status.idle": "2024-11-07T20:27:47.363524Z",
     "shell.execute_reply": "2024-11-07T20:27:47.362882Z",
     "shell.execute_reply.started": "2024-11-07T20:27:47.126753Z"
    },
    "tags": []
   },
   "outputs": [],
   "source": [
    "### remove dash errors\n",
    "def fix_dash_errors(text):\n",
    "    new_text = re.sub(r\"([a-zA-Z]+)\\-+\\n([a-zA-Z]+)([^\\w\\n\\s])?\", # Captures 3 groups: first half of word, second half of word, optional punctuation\n",
    "                      r\"\\1\\2\\3\\n\", #removes dash and moves line break\n",
    "                      text)\n",
    "    new_text_lines_stripped=[line.strip() for line in new_text.split('\\n')] #remove any extra leading or trailing whitespace\n",
    "    return \"\\n\".join(new_text_lines_stripped) #join lines back together\n",
    "files = os.listdir(dest_dir)\n",
    "files.sort()\n",
    "for file in files:\n",
    "    if file[0]=='.':\n",
    "        continue\n",
    "    path = os.path.join(dest_dir,file)\n",
    "    text = open(path,'r').read()\n",
    "    new_text = fix_dash_errors(text)\n",
    "    open(path,'w').write(new_text)"
   ]
  }
 ],
 "metadata": {
  "kernelspec": {
   "display_name": "Python 3 (ipykernel)",
   "language": "python",
   "name": "python3"
  },
  "language_info": {
   "codemirror_mode": {
    "name": "ipython",
    "version": 3
   },
   "file_extension": ".py",
   "mimetype": "text/x-python",
   "name": "python",
   "nbconvert_exporter": "python",
   "pygments_lexer": "ipython3",
   "version": "3.10.8"
  }
 },
 "nbformat": 4,
 "nbformat_minor": 5
}
