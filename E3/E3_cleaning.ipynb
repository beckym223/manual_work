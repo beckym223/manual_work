{
 "cells": [
  {
   "cell_type": "code",
   "execution_count": 5,
   "id": "d26f4a97-f7ca-4ad9-8fa8-a833383146e1",
   "metadata": {
    "execution": {
     "iopub.execute_input": "2024-11-14T20:42:37.853081Z",
     "iopub.status.busy": "2024-11-14T20:42:37.847704Z",
     "iopub.status.idle": "2024-11-14T20:42:37.939432Z",
     "shell.execute_reply": "2024-11-14T20:42:37.935541Z",
     "shell.execute_reply.started": "2024-11-14T20:42:37.852532Z"
    },
    "tags": []
   },
   "outputs": [],
   "source": [
    "import os\n",
    "import shutil\n",
    "import re\n",
    "import itertools as it\n",
    "os.chdir(\"/Users/BeckyMarcusMacbook/Thesis/manual_work/\")\n",
    "text_dir = \"data/groups/E3/texts\"\n",
    "dest_dir = \"E3_teset\"\n",
    "def reset():\n",
    "    rm_ds(text_dir)\n",
    "    if os.path.exists(dest_dir):\n",
    "        shutil.rmtree(dest_dir)\n",
    "    shutil.copytree(text_dir,dest_dir)\n",
    "def rm_ds(dir):\n",
    "    for file in os.listdir(dir):\n",
    "        if file==\".DS_Store\":\n",
    "            os.remove(os.path.join(dir,file))"
   ]
  },
  {
   "cell_type": "code",
   "execution_count": 7,
   "id": "e6a4c440",
   "metadata": {},
   "outputs": [],
   "source": [
    "def make_dirs_by_page(read_dir:str,write_dir:str):\n",
    "    for file in os.listdir(read_dir):\n",
    "        source_path = os.path.join(read_dir,file)\n",
    "        page_num = file[-6:-4]\n",
    "        dest_dir = os.path.join(write_dir,page_num)\n",
    "        os.makedirs(dest_dir,exist_ok=True)\n",
    "        shutil.copyfile(source_path,os.path.join(dest_dir,file))\n",
    "temp_num_dir = 'data/temp/E3_pages'\n",
    "shutil.rmtree(temp_num_dir)\n",
    "make_dirs_by_page(text_dir,temp_num_dir)      \n",
    "        \n",
    "        "
   ]
  },
  {
   "cell_type": "code",
   "execution_count": 5,
   "id": "47b0eda3",
   "metadata": {},
   "outputs": [
    {
     "data": {
      "text/plain": [
       "'data/groups/E2/texts'"
      ]
     },
     "execution_count": 5,
     "metadata": {},
     "output_type": "execute_result"
    }
   ],
   "source": [
    "text_dir"
   ]
  },
  {
   "cell_type": "markdown",
   "id": "25e02ac2",
   "metadata": {},
   "source": [
    "- always remove page 0\n",
    "### Title\n",
    "- Until 1912: can look for first time with two lines with 3 or more lowercase\n",
    "- 1912 on: take up to and including line with entire lowercase word\n",
    "\n",
    "### Footnotes: \n",
    "- II on 1912 p.1, 2,3,4 on next page, 's ' on next page instead of 5, then IIra\n",
    "- often time single number\n",
    "- 1908-1 has a single I on a line\n",
    "- 1910 p.13 has a '1 ' before footnote\n",
    "- 1915 uses I, ', '4 '\n",
    "\n",
    "- always first line on non-title pages\n"
   ]
  },
  {
   "cell_type": "code",
   "execution_count": 6,
   "id": "0978477b",
   "metadata": {},
   "outputs": [],
   "source": [
    "def handle_first_page(file:str, text:str)->str:\n",
    "# Until 1912: can look for first time with two lines with 3 or more lowercase\n",
    "#1912 on: take up to and including line with entire lowercase word\n",
    "    disc,year,num,pagetxt = file.split(\"-\")\n",
    "    lines = text.split(\"\\n\")\n",
    "    line_num = 0\n",
    "    if int(year)<1912:\n",
    "        num_lowercase_lines =0\n",
    "        while num_lowercase_lines<2:\n",
    "            line = lines[line_num]\n",
    "            if re.search(r\"[a-z]{3,}\",line) is not None:\n",
    "                num_lowercase_lines+=1\n",
    "            else:\n",
    "                num_lowercase_lines = 0\n",
    "            line_num+=1\n",
    "        start_line = line_num-1  \n",
    "    else:\n",
    "        while re.search(r\"\\b[a-z]+\\b\", lines[line_num]) is None:\n",
    "            line_num+=1\n",
    "        start_line = line_num+1\n",
    "    return \"\\n\".join(lines[start_line:])\n",
    "def clean_headers_footers(dest_dir):\n",
    "    file:str\n",
    "    for file in sorted(os.listdir(dest_dir)):\n",
    "        if file[0]=='.':\n",
    "            continue\n",
    "        disc,year,num,pagetxt = file.split(\"-\")\n",
    "        page=int(pagetxt[:-4])\n",
    "        path = os.path.join(dest_dir,file)\n",
    "        \n",
    "        text = open(path,'r').read()\n",
    "        \n",
    "        lines = text.split(\"\\n\")\n",
    "        lines_stripped = [l.strip() for l in lines]\n",
    "        text = \"\\n\".join(lines_stripped)\n",
    "        \n",
    "        jstor_split = text.split(\"This content downloaded from\")\n",
    "        text =jstor_split[0]\n",
    "        if page>1:\n",
    "            lines = text.split(\"\\n\")\n",
    "            no_header = lines[1:]\n",
    "            text = \"\\n\".join(no_header)\n",
    "        else:\n",
    "            text = handle_first_page(file,text)\n",
    "        with open(path,'w') as f:\n",
    "            f.write(text.strip())\n",
    "def is_first_page(file_name:str)->bool:\n",
    "    pagetxt = file_name.split(\"-\")[-1]\n",
    "    return int(pagetxt[:-4]) ==0\n",
    "    \n",
    "def remove_pages(dir_path: str,decision_func):\n",
    "    try:\n",
    "        files = sorted(os.listdir(dir_path))\n",
    "        for file in files:\n",
    "            if decision_func(file):\n",
    "                os.remove(os.path.join(dir_path, file))\n",
    "    except Exception as e:\n",
    "        raise\n",
    "reset()\n",
    "remove_pages(dest_dir,is_first_page)\n",
    "clean_headers_footers(dest_dir)"
   ]
  },
  {
   "cell_type": "code",
   "execution_count": null,
   "id": "ec626dfb",
   "metadata": {},
   "outputs": [],
   "source": []
  },
  {
   "cell_type": "code",
   "execution_count": 25,
   "id": "b589a9de",
   "metadata": {},
   "outputs": [
    {
     "data": {
      "text/plain": [
       "{'01': 'IImperial',\n",
       " '03': '2System',\n",
       " '04': 's F',\n",
       " '06': 'IIra',\n",
       " '07': \"'J.\",\n",
       " '08': '\"The',\n",
       " '09': '9See',\n",
       " '12': \"1' F\"}"
      ]
     },
     "execution_count": 25,
     "metadata": {},
     "output_type": "execute_result"
    }
   ],
   "source": [
    "footnotes_1912= ['01IImperial','032System','04s F','06IIra',\"07'J.\",'08\"The','099See',\"121' F\"]\n",
    "# 1913 starts with ' at the beginning\n",
    "\n",
    "d = {}\n",
    "for f in footnotes_1912:\n",
    "    num = f[:2]\n",
    "    word = f[2:]\n",
    "    d[num] = word\n",
    "d"
   ]
  },
  {
   "cell_type": "code",
   "execution_count": 4,
   "id": "b4a50ced",
   "metadata": {},
   "outputs": [],
   "source": [
    "E3_1912_FOOTNOTES = {'01': 'IImperial',\n",
    " '03': '2System',\n",
    " '04': 's F',\n",
    " '06': 'IIra',\n",
    " '07': \"'J.\",\n",
    " '08': '\"The',\n",
    " '09': '9See',\n",
    " '12': \"1' F\"}"
   ]
  },
  {
   "cell_type": "code",
   "execution_count": 22,
   "id": "800d65b5-3353-4acc-a3a5-009ab13afc68",
   "metadata": {
    "execution": {
     "iopub.execute_input": "2024-11-14T20:43:08.603060Z",
     "iopub.status.busy": "2024-11-14T20:43:08.599751Z",
     "iopub.status.idle": "2024-11-14T20:43:09.005224Z",
     "shell.execute_reply": "2024-11-14T20:43:09.004572Z",
     "shell.execute_reply.started": "2024-11-14T20:43:08.602945Z"
    },
    "tags": []
   },
   "outputs": [],
   "source": [
    "### Deal with line breaks across pages\n",
    "files = os.listdir(dest_dir)\n",
    "files.sort()\n",
    "for first,second in it.pairwise(files):\n",
    "    if first.split(\"-\")[:3] != second.split(\"-\")[:3]:\n",
    "        continue\n",
    "    path1 = os.path.join(dest_dir, first)\n",
    "    path2 = os.path.join(dest_dir, second)\n",
    "\n",
    "    with open(path1, 'r') as f1, open(path2, 'r') as f2:\n",
    "        text1 = f1.read()\n",
    "        text2 = f2.read()\n",
    "\n",
    "    if text1.endswith(\"-\"):\n",
    "        first_word = re.match(r\"^\\S+\", text2).group()\n",
    "        new_text2 = re.sub(r\"^\\S+\\s\", \"\", text2)\n",
    "        new_text1 = text1[:-1] + first_word\n",
    "\n",
    "        with open(path1, 'w') as f1, open(path2, 'w') as f2:\n",
    "            f1.write(new_text1.strip())\n",
    "            f2.write(new_text2.strip())\n"
   ]
  },
  {
   "cell_type": "code",
   "execution_count": 23,
   "id": "582929e7-365d-48bb-a88e-65b5b7f6565a",
   "metadata": {
    "execution": {
     "iopub.execute_input": "2024-11-14T20:43:11.273223Z",
     "iopub.status.busy": "2024-11-14T20:43:11.270543Z",
     "iopub.status.idle": "2024-11-14T20:43:11.896652Z",
     "shell.execute_reply": "2024-11-14T20:43:11.895853Z",
     "shell.execute_reply.started": "2024-11-14T20:43:11.273133Z"
    },
    "tags": []
   },
   "outputs": [],
   "source": [
    "### remove dash errors\n",
    "def fix_dash_errors(text):\n",
    "    new_text = re.sub(r\"([a-zA-Z]+)\\-+\\n([a-zA-Z]+)([^\\w\\n\\s])?\", # Captures 3 groups: first half of word, second half of word, optional punctuation\n",
    "                      r\"\\1\\2\\3\\n\", #removes dash and moves line break\n",
    "                      text)\n",
    "    new_text_lines_stripped=[line.strip() for line in new_text.split('\\n')] #remove any extra leading or trailing whitespace\n",
    "    return \"\\n\".join(new_text_lines_stripped) #join lines back together\n",
    "files = os.listdir(dest_dir)\n",
    "files.sort()\n",
    "for file in files:\n",
    "    if file[0]=='.':\n",
    "        continue\n",
    "    path = os.path.join(dest_dir,file)\n",
    "    text = open(path,'r').read()\n",
    "    new_text = fix_dash_errors(text)\n",
    "    open(path,'w').write(new_text)"
   ]
  },
  {
   "cell_type": "markdown",
   "id": "ec84c01d",
   "metadata": {},
   "source": [
    "### Handling footnotes"
   ]
  },
  {
   "cell_type": "code",
   "execution_count": null,
   "id": "fe2f81bb",
   "metadata": {},
   "outputs": [],
   "source": [
    "### Footnotes: \n",
    "# - II on 1912 p.1, 2,3,4 on next page, 's ' on next page instead of 5, then IIra\n",
    "# - often time single number\n",
    "# - 1908-1 has a single I on a line\n",
    "# - 1910 p.13 has a '1 ' before footnote\n",
    "# - 1915 uses I, ', '4 '"
   ]
  },
  {
   "cell_type": "code",
   "execution_count": 27,
   "id": "8f7ce8b4-2b74-43ee-be1a-1b754c11b72a",
   "metadata": {},
   "outputs": [],
   "source": [
    "foot_lines = {}\n",
    "step_temp = \"manual_work/E3/.footnote_orig\"\n",
    "if os.path.exists(step_temp):\n",
    "    shutil.rmtree(step_temp)\n",
    "os.makedirs(step_temp)\n",
    "files = os.listdir(dest_dir)\n",
    "files.sort()\n",
    "for file in files:\n",
    "    fn_on_page = False\n",
    "    path = os.path.join(dest_dir,file)\n",
    "    save_path = os.path.join(step_temp,file)\n",
    "    text = open(path,'r').read()\n",
    "    lines = text.split(\"\\n\")\n",
    "    if \"1912-0\" in file:\n",
    "        page_num = file[-6:-4]\n",
    "        fn_line_start = E3_1912_FOOTNOTES.get(page_num)\n",
    "        if fn_line_start is not None:\n",
    "            for i,line in enumerate(lines):\n",
    "                if re.match(fn_line_start,line):\n",
    "                    if not fn_on_page:\n",
    "                        fn_on_page = True\n",
    "                        foot_lines[file]=[]\n",
    "                    lines[i] = f\"{i}-->{line}\"\n",
    "                    foot_lines[file].append(i)\n",
    "                    break\n",
    "    elif file =='Economics-1915-0-05.txt':\n",
    "        #special case with weird start\n",
    "        for i,line in enumerate(lines):\n",
    "            if re.search(r\"I Cf\\.\",line) is not None:\n",
    "                fn_on_page = True\n",
    "                lines[i] = f\"{i}-->{line}\"\n",
    "                foot_lines[file] = [i]    \n",
    "    else:\n",
    "        for i,line in enumerate(lines):\n",
    "            if re.search(r\"^\\'|^\\d\",line) is not None or len(line)<3:\n",
    "                \n",
    "                if not fn_on_page:\n",
    "                    fn_on_page = True\n",
    "                    foot_lines[file]=[]\n",
    "                lines[i] = f\"{i}-->{line}\"\n",
    "                foot_lines[file].append(i)\n",
    "    if fn_on_page:\n",
    "        new_text = \"\\n\".join(lines)\n",
    "        with open(save_path,'w') as f:\n",
    "            f.write(new_text)"
   ]
  },
  {
   "cell_type": "code",
   "execution_count": 28,
   "id": "b5ad2d4d",
   "metadata": {},
   "outputs": [
    {
     "data": {
      "text/plain": [
       "{'Economics-1907-0-03.txt': [12, 16, 20],\n",
       " 'Economics-1907-0-10.txt': [29],\n",
       " 'Economics-1907-0-14.txt': [26],\n",
       " 'Economics-1907-0-17.txt': [34],\n",
       " 'Economics-1908-0-01.txt': [28],\n",
       " 'Economics-1908-1-01.txt': [23],\n",
       " 'Economics-1908-1-02.txt': [12],\n",
       " 'Economics-1908-1-03.txt': [5],\n",
       " 'Economics-1908-1-04.txt': [2],\n",
       " 'Economics-1908-1-05.txt': [2],\n",
       " 'Economics-1908-1-06.txt': [7],\n",
       " 'Economics-1908-1-12.txt': [8, 10, 13, 28],\n",
       " 'Economics-1908-1-14.txt': [16],\n",
       " 'Economics-1908-1-15.txt': [22],\n",
       " 'Economics-1908-1-16.txt': [7],\n",
       " 'Economics-1910-0-01.txt': [28],\n",
       " 'Economics-1910-0-13.txt': [34],\n",
       " 'Economics-1911-0-21.txt': [5],\n",
       " 'Economics-1911-0-24.txt': [31],\n",
       " 'Economics-1912-0-01.txt': [33],\n",
       " 'Economics-1912-0-03.txt': [37],\n",
       " 'Economics-1912-0-04.txt': [39],\n",
       " 'Economics-1912-0-06.txt': [38],\n",
       " 'Economics-1912-0-07.txt': [38],\n",
       " 'Economics-1912-0-08.txt': [36],\n",
       " 'Economics-1912-0-09.txt': [39],\n",
       " 'Economics-1912-0-12.txt': [38],\n",
       " 'Economics-1913-0-05.txt': [3, 28],\n",
       " 'Economics-1913-0-09.txt': [4, 34],\n",
       " 'Economics-1913-0-12.txt': [38],\n",
       " 'Economics-1914-0-01.txt': [18],\n",
       " 'Economics-1915-0-05.txt': [38],\n",
       " 'Economics-1915-0-06.txt': [16],\n",
       " 'Economics-1915-0-14.txt': [40],\n",
       " 'Economics-1915-0-16.txt': [37, 38, 39],\n",
       " 'Economics-1915-0-21.txt': [14],\n",
       " 'Economics-1916-0-01.txt': [31],\n",
       " 'Economics-1916-0-02.txt': [40],\n",
       " 'Economics-1916-0-03.txt': [30],\n",
       " 'Economics-1916-0-04.txt': [17, 39, 40],\n",
       " 'Economics-1916-0-05.txt': [10, 27, 33],\n",
       " 'Economics-1916-0-06.txt': [36],\n",
       " 'Economics-1916-0-08.txt': [35, 37],\n",
       " 'Economics-1916-0-09.txt': [9],\n",
       " 'Economics-1916-0-10.txt': [39],\n",
       " 'Economics-1916-0-11.txt': [23, 32],\n",
       " 'Economics-1916-0-12.txt': [8, 11],\n",
       " 'Economics-1917-0-01.txt': [33]}"
      ]
     },
     "execution_count": 28,
     "metadata": {},
     "output_type": "execute_result"
    }
   ],
   "source": [
    "foot_lines"
   ]
  },
  {
   "cell_type": "code",
   "execution_count": 7,
   "id": "105a7744",
   "metadata": {},
   "outputs": [
    {
     "data": {
      "text/plain": [
       "{'Economics-1907-0-14.txt': 26,\n",
       " 'Economics-1907-0-17.txt': 34,\n",
       " 'Economics-1908-0-01.txt': 28,\n",
       " 'Economics-1908-1-01.txt': 23,\n",
       " 'Economics-1910-0-01.txt': 28,\n",
       " 'Economics-1910-0-13.txt': 34,\n",
       " 'Economics-1911-0-24.txt': 31,\n",
       " 'Economics-1912-0-01.txt': 33,\n",
       " 'Economics-1912-0-03.txt': 37,\n",
       " 'Economics-1912-0-04.txt': 39,\n",
       " 'Economics-1912-0-06.txt': 38,\n",
       " 'Economics-1912-0-07.txt': 38,\n",
       " 'Economics-1912-0-08.txt': 36,\n",
       " 'Economics-1912-0-09.txt': 39,\n",
       " 'Economics-1912-0-12.txt': 38,\n",
       " 'Economics-1913-0-09.txt': 34,\n",
       " 'Economics-1913-0-12.txt': 38,\n",
       " 'Economics-1915-0-05.txt': 38,\n",
       " 'Economics-1915-0-14.txt': 40,\n",
       " 'Economics-1915-0-16.txt': 37,\n",
       " 'Economics-1915-0-21.txt': 14,\n",
       " 'Economics-1916-0-01.txt': 31,\n",
       " 'Economics-1916-0-02.txt': 40,\n",
       " 'Economics-1916-0-04.txt': 39,\n",
       " 'Economics-1916-0-10.txt': 39,\n",
       " 'Economics-1917-0-01.txt': 33}"
      ]
     },
     "execution_count": 7,
     "metadata": {},
     "output_type": "execute_result"
    }
   ],
   "source": [
    "edited_foot_lines = {\n",
    " 'Economics-1907-0-14.txt': [26],\n",
    " 'Economics-1907-0-17.txt': [34],\n",
    " 'Economics-1908-0-01.txt': [28],\n",
    " 'Economics-1908-1-01.txt': [23],\n",
    " 'Economics-1910-0-01.txt': [28],\n",
    " 'Economics-1910-0-13.txt': [34],\n",
    " 'Economics-1911-0-24.txt': [31],\n",
    " 'Economics-1912-0-01.txt': [33],\n",
    " 'Economics-1912-0-03.txt': [37],\n",
    " 'Economics-1912-0-04.txt': [39],\n",
    " 'Economics-1912-0-06.txt': [38],\n",
    " 'Economics-1912-0-07.txt': [38],\n",
    " 'Economics-1912-0-08.txt': [36],\n",
    " 'Economics-1912-0-09.txt': [39],\n",
    " 'Economics-1912-0-12.txt': [38],\n",
    " 'Economics-1913-0-09.txt': [34],\n",
    " 'Economics-1913-0-12.txt': [38],\n",
    " 'Economics-1915-0-05.txt': [38],\n",
    " 'Economics-1915-0-14.txt': [40],\n",
    " 'Economics-1915-0-16.txt': [37, 38, 39],\n",
    " 'Economics-1915-0-21.txt': [14],\n",
    " 'Economics-1916-0-01.txt': [31],\n",
    " 'Economics-1916-0-02.txt': [40],\n",
    " 'Economics-1916-0-04.txt': [39, 40],\n",
    " 'Economics-1916-0-10.txt': [39],\n",
    " 'Economics-1917-0-01.txt': [33]}\n",
    "new_foot = {}\n",
    "for file,vals in edited_foot_lines.items():\n",
    "    if vals!=[]:\n",
    "        \n",
    "        new_foot[file] = min(vals)\n",
    "        first_foot_line = min(vals)\n",
    "        path = os.path.join(dest_dir,file)\n",
    "        text = open(path,'r').read()\n",
    "        lines = text.split(\"\\n\")\n",
    "        lines_cut = lines[:first_foot_line]\n",
    "        with open(path,'w') as f:\n",
    "            f.write('\\n'.join(lines_cut))\n",
    "new_foot"
   ]
  },
  {
   "cell_type": "code",
   "execution_count": null,
   "id": "b7f4b439",
   "metadata": {},
   "outputs": [],
   "source": []
  }
 ],
 "metadata": {
  "kernelspec": {
   "display_name": "thesis_env",
   "language": "python",
   "name": "python3"
  },
  "language_info": {
   "codemirror_mode": {
    "name": "ipython",
    "version": 3
   },
   "file_extension": ".py",
   "mimetype": "text/x-python",
   "name": "python",
   "nbconvert_exporter": "python",
   "pygments_lexer": "ipython3",
   "version": "3.12.8"
  }
 },
 "nbformat": 4,
 "nbformat_minor": 5
}
