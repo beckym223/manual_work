{
 "cells": [
  {
   "cell_type": "code",
   "execution_count": 2,
   "metadata": {},
   "outputs": [
    {
     "ename": "FileNotFoundError",
     "evalue": "[Errno 2] No such file or directory: '/Users/BeckyMarcusMacbook/manual_work/'",
     "output_type": "error",
     "traceback": [
      "\u001b[0;31m---------------------------------------------------------------------------\u001b[0m",
      "\u001b[0;31mFileNotFoundError\u001b[0m                         Traceback (most recent call last)",
      "Cell \u001b[0;32mIn[2], line 2\u001b[0m\n\u001b[1;32m      1\u001b[0m \u001b[38;5;28;01mimport\u001b[39;00m \u001b[38;5;21;01mos\u001b[39;00m\n\u001b[0;32m----> 2\u001b[0m \u001b[43mos\u001b[49m\u001b[38;5;241;43m.\u001b[39;49m\u001b[43mchdir\u001b[49m\u001b[43m(\u001b[49m\u001b[38;5;124;43m'\u001b[39;49m\u001b[38;5;124;43m/Users/BeckyMarcusMacbook/manual_work/\u001b[39;49m\u001b[38;5;124;43m'\u001b[39;49m\u001b[43m)\u001b[49m\n",
      "\u001b[0;31mFileNotFoundError\u001b[0m: [Errno 2] No such file or directory: '/Users/BeckyMarcusMacbook/manual_work/'"
     ]
    }
   ],
   "source": [
    "import os\n",
    "os.chdir('/Users/BeckyMarcusMacbook/manual_work/')\n"
   ]
  },
  {
   "cell_type": "code",
   "execution_count": 5,
   "metadata": {},
   "outputs": [
    {
     "name": "stdout",
     "output_type": "stream",
     "text": [
      "long_texts_for_gdocs/E1_E2_2025-01-14_22:16:21.txt\n"
     ]
    }
   ],
   "source": [
    "\n",
    "from time import gmtime, strftime\n",
    "t =strftime(\"%Y-%m-%d_%H:%M:%S\", gmtime())\n",
    "name = \"E1_E2\"\n",
    "dest_file = fr\"long_texts_for_gdocs/{name}_{t}.txt\"\n",
    "os.makedirs(os.path.dirname(dest_file),exist_ok=True)\n",
    "\n",
    "src_folder = \"clean_para_split\"\n",
    "print(dest_file)"
   ]
  },
  {
   "cell_type": "code",
   "execution_count": 8,
   "metadata": {},
   "outputs": [
    {
     "name": "stdout",
     "output_type": "stream",
     "text": [
      "long_texts_for_gdocs/E3_E4_2025-01-15_00:34:52.txt\n"
     ]
    }
   ],
   "source": [
    "\n",
    "from time import gmtime, strftime\n",
    "t =strftime(\"%Y-%m-%d_%H:%M:%S\", gmtime())\n",
    "name = \"E3_E4\"\n",
    "dest_file = fr\"long_texts_for_gdocs/{name}_{t}.txt\"\n",
    "os.makedirs(os.path.dirname(dest_file),exist_ok=True)\n",
    "\n",
    "src_folder = \"clean_para_split\"\n",
    "print(dest_file)\n",
    "if os.path.exists(dest_file):\n",
    "    os.remove(dest_file)\n",
    "last_id = None\n",
    "for group in name.split(\"_\"):\n",
    "    src_dir = os.path.join(src_folder,group)\n",
    "    with open(dest_file,'a') as f:\n",
    "        f.write(f\"\\n# {group}\")\n",
    "    for file in sorted(os.listdir(src_dir)):\n",
    "        if \".txt\" in file:\n",
    "            doc_id = file.rsplit(\"-\",1)[0]\n",
    "            path = os.path.join(src_dir,file)\n",
    "            text = open(path,'r').read()\n",
    "            new_text=f\"\\n\\n\\n### ---{file}---\\n{text.strip()}\"\n",
    "            with open(dest_file,'a') as f:\n",
    "                if doc_id!= last_id:\n",
    "                    f.write(f\"\\n ## {doc_id}\")\n",
    "                f.write(new_text)\n",
    "            last_id = doc_id"
   ]
  },
  {
   "cell_type": "code",
   "execution_count": null,
   "metadata": {},
   "outputs": [],
   "source": [
    "if os.path.exists(dest_file):\n",
    "    os.remove(dest_file)\n"
   ]
  },
  {
   "cell_type": "code",
   "execution_count": 9,
   "metadata": {},
   "outputs": [],
   "source": [
    "def write_md(name:str,dest_file:str,src_folder:str):\n",
    "    print(f\"Writing to {dest_file}\")\n",
    "    last_id = None\n",
    "    for group in name.split(\"_\"):\n",
    "        src_dir = os.path.join(src_folder,group)\n",
    "        with open(dest_file,'a') as f:\n",
    "            f.write(f\"\\n# {group}\")\n",
    "        for file in sorted(os.listdir(src_dir)):\n",
    "            if \".txt\" in file:\n",
    "                doc_id = file.rsplit(\"-\",1)[0]\n",
    "                path = os.path.join(src_dir,file)\n",
    "                text = open(path,'r').read()\n",
    "                new_text=f\"\\n\\n\\n### ---{file}---\\n{text.strip()}\"\n",
    "                with open(dest_file,'a') as f:\n",
    "                    if doc_id!= last_id:\n",
    "                        f.write(f\"\\n ## {doc_id}\")\n",
    "                    f.write(new_text)\n",
    "                last_id = doc_id"
   ]
  },
  {
   "cell_type": "code",
   "execution_count": 12,
   "metadata": {},
   "outputs": [
    {
     "name": "stdout",
     "output_type": "stream",
     "text": [
      "Writing to long_texts_for_gdocs/E2_2025-01-15_22:05:25.txt\n"
     ]
    }
   ],
   "source": [
    "t =strftime(\"%Y-%m-%d_%H:%M:%S\", gmtime())\n",
    "name = \"E2\"\n",
    "dest_file = fr\"long_texts_for_gdocs/{name}_{t}.txt\"\n",
    "os.makedirs(os.path.dirname(dest_file),exist_ok=True)\n",
    "write_md(name,dest_file,src_folder)"
   ]
  },
  {
   "cell_type": "code",
   "execution_count": null,
   "metadata": {},
   "outputs": [],
   "source": []
  }
 ],
 "metadata": {
  "kernelspec": {
   "display_name": "thesis_env",
   "language": "python",
   "name": "python3"
  },
  "language_info": {
   "codemirror_mode": {
    "name": "ipython",
    "version": 3
   },
   "file_extension": ".py",
   "mimetype": "text/x-python",
   "name": "python",
   "nbconvert_exporter": "python",
   "pygments_lexer": "ipython3",
   "version": "3.12.8"
  }
 },
 "nbformat": 4,
 "nbformat_minor": 2
}
