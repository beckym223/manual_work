{
 "cells": [
  {
   "cell_type": "code",
   "execution_count": 8,
   "metadata": {},
   "outputs": [],
   "source": [
    "import os\n",
    "os.chdir('/Users/BeckyMarcusMacbook/Thesis/')\n"
   ]
  },
  {
   "cell_type": "code",
   "execution_count": 14,
   "metadata": {},
   "outputs": [
    {
     "name": "stdout",
     "output_type": "stream",
     "text": [
      "manual_work/long_texts_for_gdocs/E1_E2_2025-01-09_20:29:35.txt\n"
     ]
    }
   ],
   "source": [
    "\n",
    "from time import gmtime, strftime\n",
    "t =strftime(\"%Y-%m-%d_%H:%M:%S\", gmtime())\n",
    "name = \"E1_E2\"\n",
    "dest_file = fr\"manual_work/long_texts_for_gdocs/{name}_{t}.txt\"\n",
    "os.makedirs(os.path.dirname(dest_file),exist_ok=True)\n",
    "\n",
    "src_folder = \"EconTextCleaning/clean_texts\"\n",
    "print(dest_file)"
   ]
  },
  {
   "cell_type": "code",
   "execution_count": 17,
   "metadata": {},
   "outputs": [],
   "source": [
    "if os.path.exists(dest_file):\n",
    "    os.remove(dest_file)\n",
    "for group in name.split(\"_\"):\n",
    "    src_dir = os.path.join(src_folder,group)\n",
    "    for file in sorted(os.listdir(src_dir)):\n",
    "        if \".txt\" in file:\n",
    "            path = os.path.join(src_dir,file)\n",
    "            text = open(path,'r').read()\n",
    "            new_text=f\"\\n\\n\\n---{file}---\\n{text.strip()}\"\n",
    "            with open(dest_file,'a') as f:\n",
    "                f.write(new_text)"
   ]
  },
  {
   "cell_type": "code",
   "execution_count": null,
   "metadata": {},
   "outputs": [],
   "source": []
  }
 ],
 "metadata": {
  "kernelspec": {
   "display_name": "thesis_env",
   "language": "python",
   "name": "python3"
  },
  "language_info": {
   "codemirror_mode": {
    "name": "ipython",
    "version": 3
   },
   "file_extension": ".py",
   "mimetype": "text/x-python",
   "name": "python",
   "nbconvert_exporter": "python",
   "pygments_lexer": "ipython3",
   "version": "3.12.8"
  }
 },
 "nbformat": 4,
 "nbformat_minor": 2
}
