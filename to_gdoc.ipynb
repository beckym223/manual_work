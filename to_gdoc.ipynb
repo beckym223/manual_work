{
 "cells": [
  {
   "cell_type": "code",
   "execution_count": 3,
   "metadata": {},
   "outputs": [],
   "source": [
    "import os\n",
    "os.chdir('/Users/BeckyMarcusMacbook/Thesis/manual_work/')\n"
   ]
  },
  {
   "cell_type": "code",
   "execution_count": 4,
   "metadata": {},
   "outputs": [
    {
     "name": "stdout",
     "output_type": "stream",
     "text": [
      "long_texts_for_gdocs/E4_2025-01-26_19:54:12.txt\n"
     ]
    }
   ],
   "source": [
    "\n",
    "from time import gmtime, strftime\n",
    "t =strftime(\"%Y-%m-%d_%H:%M:%S\", gmtime())\n",
    "name = \"E4\"\n",
    "dest_file = fr\"long_texts_for_gdocs/{name}_{t}.txt\"\n",
    "os.makedirs(os.path.dirname(dest_file),exist_ok=True)\n",
    "\n",
    "src_folder = \"clean_para_split\"\n",
    "print(dest_file)"
   ]
  },
  {
   "cell_type": "code",
   "execution_count": 4,
   "metadata": {},
   "outputs": [
    {
     "name": "stdout",
     "output_type": "stream",
     "text": [
      "long_texts_for_gdocs/E2_2025-01-24_01:29:04.txt\n"
     ]
    }
   ],
   "source": [
    "\n",
    "from time import gmtime, strftime\n",
    "t =strftime(\"%Y-%m-%d_%H:%M:%S\", gmtime())\n",
    "name = \"E2\"\n",
    "dest_file = fr\"long_texts_for_gdocs/{name}_{t}.txt\"\n",
    "os.makedirs(os.path.dirname(dest_file),exist_ok=True)\n",
    "\n",
    "src_folder ='/Users/BeckyMarcusMacbook/Thesis/manual_work/E2/problematic_fixed'\n",
    "print(dest_file)\n",
    "if os.path.exists(dest_file):\n",
    "    os.remove(dest_file)\n",
    "last_id = None\n",
    "for group in name.split(\"_\"):\n",
    "    #src_dir = os.path.join(src_folder,group)\n",
    "    src_dir=src_folder\n",
    "    with open(dest_file,'a') as f:\n",
    "        f.write(f\"\\n# {group}\")\n",
    "    for file in sorted(os.listdir(src_dir)):\n",
    "        if \".txt\" in file:\n",
    "            doc_id = file.rsplit(\"-\",1)[0]\n",
    "            path = os.path.join(src_dir,file)\n",
    "            text = open(path,'r').read()\n",
    "            new_text=f\"\\n\\n\\n### ---{file}---\\n{text.strip()}\"\n",
    "            with open(dest_file,'a') as f:\n",
    "                if doc_id!= last_id:\n",
    "                    f.write(f\"\\n ## {doc_id}\")\n",
    "                f.write(new_text)\n",
    "            last_id = doc_id"
   ]
  },
  {
   "cell_type": "code",
   "execution_count": 8,
   "metadata": {},
   "outputs": [
    {
     "data": {
      "text/plain": [
       "43"
      ]
     },
     "execution_count": 8,
     "metadata": {},
     "output_type": "execute_result"
    }
   ],
   "source": [
    "len('about any particular scientific proposition')"
   ]
  },
  {
   "cell_type": "code",
   "execution_count": null,
   "metadata": {},
   "outputs": [],
   "source": [
    "if os.path.exists(dest_file):\n",
    "    os.remove(dest_file)\n"
   ]
  },
  {
   "cell_type": "code",
   "execution_count": 30,
   "metadata": {},
   "outputs": [],
   "source": [
    "import re\n",
    "def write_md(name:str,dest_file:str,src_folder:str,double_line=False):\n",
    "    if os.path.exists(dest_file):\n",
    "        os.remove(dest_file)\n",
    "    print(f\"Writing to {dest_file}\")\n",
    "    last_id = None\n",
    "    for group in name.split(\"_\"):\n",
    "        src_dir = os.path.join(src_folder,group)\n",
    "        with open(dest_file,'a') as f:\n",
    "            f.write(f\"\\n# {group}\")\n",
    "        for file in sorted(os.listdir(src_dir)):\n",
    "            if \".txt\" in file:\n",
    "                doc_id = file.rsplit(\"-\",1)[0]\n",
    "                path = os.path.join(src_dir,file)\n",
    "                text = open(path,'r').read()\n",
    "                if double_line:\n",
    "                    text = re.sub()\n",
    "                new_text=f\"\\n\\n\\n### ---{file}---\\n{text.strip()}\"\n",
    "                with open(dest_file,'a') as f:\n",
    "                    if doc_id!= last_id:\n",
    "                        f.write(f\"\\n ## {doc_id}\")\n",
    "                    f.write(new_text)\n",
    "                last_id = doc_id"
   ]
  },
  {
   "cell_type": "code",
   "execution_count": 37,
   "metadata": {},
   "outputs": [
    {
     "name": "stdout",
     "output_type": "stream",
     "text": [
      "Writing to Jan_26_gdocs/E7_jan27.txt\n"
     ]
    }
   ],
   "source": [
    "src_folder = \"/Users/BeckyMarcusMacbook/Thesis/TextCleaning/clean_text\"\n",
    "t =strftime(\"%Y-%m-%d_%H:%M:%S\", gmtime())\n",
    "\n",
    "name = f\"E7\"\n",
    "dest_file = fr\"Jan_26_gdocs/{name}_jan27.txt\"\n",
    "os.makedirs(os.path.dirname(dest_file),exist_ok=True)\n",
    "write_md(name,dest_file,src_folder)"
   ]
  },
  {
   "cell_type": "code",
   "execution_count": 35,
   "metadata": {},
   "outputs": [
    {
     "data": {
      "text/plain": [
       "'/Users/BeckyMarcusMacbook/Thesis/manual_work'"
      ]
     },
     "execution_count": 35,
     "metadata": {},
     "output_type": "execute_result"
    }
   ],
   "source": [
    "os.getcwd()"
   ]
  },
  {
   "cell_type": "code",
   "execution_count": 7,
   "metadata": {},
   "outputs": [
    {
     "name": "stdout",
     "output_type": "stream",
     "text": [
      "Writing to Jan_26_gdocs/E1_2025-01-26_19:54:21.txt\n",
      "Writing to Jan_26_gdocs/E2_2025-01-26_19:54:21.txt\n",
      "Writing to Jan_26_gdocs/E3_2025-01-26_19:54:21.txt\n",
      "Writing to Jan_26_gdocs/E4_2025-01-26_19:54:21.txt\n",
      "Writing to Jan_26_gdocs/E5_2025-01-26_19:54:21.txt\n",
      "Writing to Jan_26_gdocs/E6_2025-01-26_19:54:21.txt\n",
      "Writing to Jan_26_gdocs/E7_2025-01-26_19:54:21.txt\n"
     ]
    }
   ],
   "source": [
    "src_folder = \"clean_para_split40\"\n",
    "t =strftime(\"%Y-%m-%d_%H:%M:%S\", gmtime())\n",
    "for i in range(1,8):\n",
    "    name = f\"E{i}\"\n",
    "    dest_file = fr\"Jan_26_gdocs/{name}_{t}.txt\"\n",
    "    os.makedirs(os.path.dirname(dest_file),exist_ok=True)\n",
    "    write_md(name,dest_file,src_folder)"
   ]
  },
  {
   "cell_type": "code",
   "execution_count": null,
   "metadata": {},
   "outputs": [],
   "source": [
    "src_folder = \"clean_para_split40\"\n",
    "t =strftime(\"%Y-%m-%d_%H:%M:%S\", gmtime())\n",
    "for i in range(1,8):\n",
    "    name = f\"E{i}\"\n",
    "    dest_file = fr\"Jan_26_gdocs/{name}_{t}.txt\"\n",
    "    os.makedirs(os.path.dirname(dest_file),exist_ok=True)\n",
    "    write_md(name,dest_file,src_folder)"
   ]
  },
  {
   "cell_type": "code",
   "execution_count": null,
   "metadata": {},
   "outputs": [
    {
     "name": "stdout",
     "output_type": "stream",
     "text": [
      "Writing to Jan_26_gdocs/2025-01-26_22:20:35_E6.1.txt\n",
      "Writing to Jan_26_gdocs/2025-01-26_22:20:35_E6.2.txt\n"
     ]
    }
   ],
   "source": [
    "src_folder = \"clean_para_split40\"\n"
   ]
  },
  {
   "cell_type": "code",
   "execution_count": 22,
   "metadata": {},
   "outputs": [
    {
     "data": {
      "text/plain": [
       "73"
      ]
     },
     "execution_count": 22,
     "metadata": {},
     "output_type": "execute_result"
    }
   ],
   "source": []
  },
  {
   "cell_type": "code",
   "execution_count": 19,
   "metadata": {},
   "outputs": [
    {
     "name": "stdout",
     "output_type": "stream",
     "text": [
      "Writing to Jan_26_gdocs/2025-01-26_23:09:55_E6.1.txt\n",
      "Writing to Jan_26_gdocs/2025-01-26_23:09:55_E6.2.txt\n"
     ]
    }
   ],
   "source": [
    "import os\n",
    "source=\"/Users/BeckyMarcusMacbook/Thesis/TextCleaning/clean_text/E6\"\n",
    "split_dirs = \"/Users/BeckyMarcusMacbook/Thesis/manual_work/clean_para_split40/\"\n",
    "\n",
    "for file in sorted(os.listdir(source)):\n",
    "    if file[0]==\".\":\n",
    "        continue\n",
    "    path = os.path.join(source,file)\n",
    "    year = file.split(\"-\",2)[1]\n",
    "    group = \"E6.1\" if int(year)<=1990 else \"E6.2\"\n",
    "    text = open(path).read()\n",
    "    id = file.rsplit(\"-\",1)[0]\n",
    "    lines = text.strip().splitlines()\n",
    "    edited = \"\\n\".join([l+\"\\n\" if len(l)<25 else l for l in lines])\n",
    "    dest = os.path.join(split_dirs,group,file)\n",
    "    os.makedirs(os.path.dirname(dest),exist_ok=True)\n",
    "    with open(dest,'w') as f:\n",
    "        f.write(edited)\n",
    "t =strftime(\"%Y-%m-%d_%H:%M:%S\", gmtime())\n",
    "name =  \"E6\"\n",
    "for name in [\"E6.1\",\"E6.2\"]:\n",
    "    dest_file = fr\"Jan_26_gdocs/{t}_{name}.txt\"\n",
    "    os.makedirs(os.path.dirname(dest_file),exist_ok=True)\n",
    "    write_md(name,dest_file,split_dirs)"
   ]
  },
  {
   "cell_type": "code",
   "execution_count": null,
   "metadata": {},
   "outputs": [],
   "source": [
    "e4_old = \"/Users/BeckyMarcusMacbook/Thesis/manual_work/clean_para_split40/E4\"\n",
    "e4_new1 = \"/Users/BeckyMarcusMacbook/Thesis/manual_work/clean_para_split40/\"\n",
    "e4_new2 = "
   ]
  },
  {
   "cell_type": "code",
   "execution_count": 38,
   "metadata": {},
   "outputs": [
    {
     "name": "stdout",
     "output_type": "stream",
     "text": [
      "Writing to Jan_27_gdocs/E1.txt\n",
      "Writing to Jan_27_gdocs/E2.txt\n",
      "Writing to Jan_27_gdocs/E3.txt\n",
      "Writing to Jan_27_gdocs/E4.txt\n",
      "Writing to Jan_27_gdocs/E5.txt\n",
      "Writing to Jan_27_gdocs/E6.txt\n",
      "Writing to Jan_27_gdocs/E7.txt\n"
     ]
    }
   ],
   "source": [
    "src_folder = \"/Users/BeckyMarcusMacbook/Thesis/TextCleaning/clean_text\"\n",
    "for i in range(1,8):\n",
    "    name = f\"E{i}\"\n",
    "    dest_file = fr\"Jan_27_gdocs/{name}.txt\"\n",
    "    os.makedirs(os.path.dirname(dest_file),exist_ok=True)\n",
    "    write_md(name,dest_file,src_folder)"
   ]
  },
  {
   "cell_type": "code",
   "execution_count": null,
   "metadata": {},
   "outputs": [],
   "source": []
  }
 ],
 "metadata": {
  "kernelspec": {
   "display_name": "thesis_env",
   "language": "python",
   "name": "python3"
  },
  "language_info": {
   "codemirror_mode": {
    "name": "ipython",
    "version": 3
   },
   "file_extension": ".py",
   "mimetype": "text/x-python",
   "name": "python",
   "nbconvert_exporter": "python",
   "pygments_lexer": "ipython3",
   "version": "3.12.8"
  }
 },
 "nbformat": 4,
 "nbformat_minor": 2
}
