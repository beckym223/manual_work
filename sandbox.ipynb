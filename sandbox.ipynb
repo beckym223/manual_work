{
 "cells": [
  {
   "cell_type": "code",
   "execution_count": 1,
   "metadata": {},
   "outputs": [],
   "source": [
    "import os\n",
    "import functools"
   ]
  },
  {
   "cell_type": "code",
   "execution_count": 22,
   "metadata": {},
   "outputs": [
    {
     "data": {
      "text/plain": [
       "'def'"
      ]
     },
     "execution_count": 22,
     "metadata": {},
     "output_type": "execute_result"
    }
   ],
   "source": [
    "d = {}\n",
    "d.get(None,'def')"
   ]
  },
  {
   "cell_type": "code",
   "execution_count": 39,
   "metadata": {},
   "outputs": [
    {
     "name": "stdout",
     "output_type": "stream",
     "text": [
      "butt\n",
      "we committed with msg: default message on path coolio\n",
      "Returning: \n"
     ]
    },
    {
     "data": {
      "text/plain": [
       "'meow'"
      ]
     },
     "execution_count": 39,
     "metadata": {},
     "output_type": "execute_result"
    }
   ],
   "source": [
    "from typing import Optional, Any\n",
    "def commit(_func=None,\n",
    "           commit_default = False,\n",
    "           commit_msg=None,\n",
    "           commit_path_arg:Optional[int|str]=\"dest_dir\",\n",
    "           default_path:str = \"./\",\n",
    "           *args:list, **kwargs:dict[str,Any]):\n",
    "    def decorator_commit(func):\n",
    "        @functools.wraps(func)\n",
    "        def wrapper(*args, **kwargs):\n",
    "            cm = commit_msg if commit_msg is not None else \"default message\"\n",
    "            to_commit = kwargs.pop(\"commit_changes\",commit_default)\n",
    "            result = func(*args, **kwargs)\n",
    "\n",
    "            if to_commit:\n",
    "                path_to_commit = args[commit_path_arg] if isinstance(commit_path_arg,int) else kwargs.get(commit_path_arg,default_path) #type:ignore\n",
    "                print(f\"we committed with msg: {cm} on path {path_to_commit}\")\n",
    "                print(\"Returning: \")\n",
    "                return result\n",
    "            else:\n",
    "                print(\"Nothing to commit\")\n",
    "        return wrapper\n",
    "            \n",
    "\n",
    "    if _func is None:\n",
    "        return decorator_commit\n",
    "    else:\n",
    "        return decorator_commit(_func)\n",
    "\n",
    "@commit(commit_path_arg='deft_dir')\n",
    "def test_func(arg1,deft_dir = \"whatsup\",kwarg='hello',**commit_kwargs):\n",
    "    print(kwarg)\n",
    "    return arg1\n",
    "test_func('meow',kwarg='butt',commit_changes = True,deft_dir ='coolio')"
   ]
  },
  {
   "cell_type": "code",
   "execution_count": null,
   "metadata": {},
   "outputs": [],
   "source": []
  }
 ],
 "metadata": {
  "kernelspec": {
   "display_name": "thesis_env",
   "language": "python",
   "name": "python3"
  },
  "language_info": {
   "codemirror_mode": {
    "name": "ipython",
    "version": 3
   },
   "file_extension": ".py",
   "mimetype": "text/x-python",
   "name": "python",
   "nbconvert_exporter": "python",
   "pygments_lexer": "ipython3",
   "version": "3.12.8"
  }
 },
 "nbformat": 4,
 "nbformat_minor": 2
}
