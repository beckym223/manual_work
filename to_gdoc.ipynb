{
 "cells": [
  {
   "cell_type": "code",
   "execution_count": 2,
   "metadata": {},
   "outputs": [],
   "source": [
    "import os\n",
    "os.chdir('/Users/BeckyMarcusMacbook/Thesis/manual_work/')\n"
   ]
  },
  {
   "cell_type": "code",
   "execution_count": 5,
   "metadata": {},
   "outputs": [
    {
     "name": "stdout",
     "output_type": "stream",
     "text": [
      "long_texts_for_gdocs/E1_E2_2025-01-14_22:16:21.txt\n"
     ]
    }
   ],
   "source": [
    "\n",
    "from time import gmtime, strftime\n",
    "t =strftime(\"%Y-%m-%d_%H:%M:%S\", gmtime())\n",
    "name = \"E4\"\n",
    "dest_file = fr\"long_texts_for_gdocs/{name}_{t}.txt\"\n",
    "os.makedirs(os.path.dirname(dest_file),exist_ok=True)\n",
    "\n",
    "src_folder = \"clean_para_split\"\n",
    "print(dest_file)"
   ]
  },
  {
   "cell_type": "code",
   "execution_count": 4,
   "metadata": {},
   "outputs": [
    {
     "name": "stdout",
     "output_type": "stream",
     "text": [
      "long_texts_for_gdocs/E2_2025-01-24_01:29:04.txt\n"
     ]
    }
   ],
   "source": [
    "\n",
    "from time import gmtime, strftime\n",
    "t =strftime(\"%Y-%m-%d_%H:%M:%S\", gmtime())\n",
    "name = \"E2\"\n",
    "dest_file = fr\"long_texts_for_gdocs/{name}_{t}.txt\"\n",
    "os.makedirs(os.path.dirname(dest_file),exist_ok=True)\n",
    "\n",
    "src_folder ='/Users/BeckyMarcusMacbook/Thesis/manual_work/E2/problematic_fixed'\n",
    "print(dest_file)\n",
    "if os.path.exists(dest_file):\n",
    "    os.remove(dest_file)\n",
    "last_id = None\n",
    "for group in name.split(\"_\"):\n",
    "    #src_dir = os.path.join(src_folder,group)\n",
    "    src_dir=src_folder\n",
    "    with open(dest_file,'a') as f:\n",
    "        f.write(f\"\\n# {group}\")\n",
    "    for file in sorted(os.listdir(src_dir)):\n",
    "        if \".txt\" in file:\n",
    "            doc_id = file.rsplit(\"-\",1)[0]\n",
    "            path = os.path.join(src_dir,file)\n",
    "            text = open(path,'r').read()\n",
    "            new_text=f\"\\n\\n\\n### ---{file}---\\n{text.strip()}\"\n",
    "            with open(dest_file,'a') as f:\n",
    "                if doc_id!= last_id:\n",
    "                    f.write(f\"\\n ## {doc_id}\")\n",
    "                f.write(new_text)\n",
    "            last_id = doc_id"
   ]
  },
  {
   "cell_type": "code",
   "execution_count": null,
   "metadata": {},
   "outputs": [],
   "source": [
    "if os.path.exists(dest_file):\n",
    "    os.remove(dest_file)\n"
   ]
  },
  {
   "cell_type": "code",
   "execution_count": 9,
   "metadata": {},
   "outputs": [],
   "source": [
    "def write_md(name:str,dest_file:str,src_folder:str):\n",
    "    print(f\"Writing to {dest_file}\")\n",
    "    last_id = None\n",
    "    for group in name.split(\"_\"):\n",
    "        src_dir = os.path.join(src_folder,group)\n",
    "        with open(dest_file,'a') as f:\n",
    "            f.write(f\"\\n# {group}\")\n",
    "        for file in sorted(os.listdir(src_dir)):\n",
    "            if \".txt\" in file:\n",
    "                doc_id = file.rsplit(\"-\",1)[0]\n",
    "                path = os.path.join(src_dir,file)\n",
    "                text = open(path,'r').read()\n",
    "                new_text=f\"\\n\\n\\n### ---{file}---\\n{text.strip()}\"\n",
    "                with open(dest_file,'a') as f:\n",
    "                    if doc_id!= last_id:\n",
    "                        f.write(f\"\\n ## {doc_id}\")\n",
    "                    f.write(new_text)\n",
    "                last_id = doc_id"
   ]
  },
  {
   "cell_type": "code",
   "execution_count": 12,
   "metadata": {},
   "outputs": [
    {
     "name": "stdout",
     "output_type": "stream",
     "text": [
      "Writing to long_texts_for_gdocs/E2_2025-01-15_22:05:25.txt\n"
     ]
    }
   ],
   "source": [
    "t =strftime(\"%Y-%m-%d_%H:%M:%S\", gmtime())\n",
    "name = \"E2\"\n",
    "dest_file = fr\"long_texts_for_gdocs/{name}_{t}.txt\"\n",
    "os.makedirs(os.path.dirname(dest_file),exist_ok=True)\n",
    "write_md(name,dest_file,src_folder)"
   ]
  },
  {
   "cell_type": "code",
   "execution_count": null,
   "metadata": {},
   "outputs": [],
   "source": []
  }
 ],
 "metadata": {
  "kernelspec": {
   "display_name": "thesis_env",
   "language": "python",
   "name": "python3"
  },
  "language_info": {
   "codemirror_mode": {
    "name": "ipython",
    "version": 3
   },
   "file_extension": ".py",
   "mimetype": "text/x-python",
   "name": "python",
   "nbconvert_exporter": "python",
   "pygments_lexer": "ipython3",
   "version": "3.12.8"
  }
 },
 "nbformat": 4,
 "nbformat_minor": 2
}
