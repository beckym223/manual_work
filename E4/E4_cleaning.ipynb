{
 "cells": [
  {
   "cell_type": "code",
   "execution_count": 53,
   "id": "d26f4a97-f7ca-4ad9-8fa8-a833383146e1",
   "metadata": {
    "execution": {
     "iopub.execute_input": "2024-11-02T20:44:23.784205Z",
     "iopub.status.busy": "2024-11-02T20:44:23.778570Z",
     "iopub.status.idle": "2024-11-02T20:44:23.805979Z",
     "shell.execute_reply": "2024-11-02T20:44:23.803849Z",
     "shell.execute_reply.started": "2024-11-02T20:44:23.784105Z"
    },
    "tags": []
   },
   "outputs": [],
   "source": [
    "import os\n",
    "import shutil\n",
    "text_dir = \"E4/texts\"\n",
    "dest_dir = \"E4/temp_texts\"\n",
    "def reset():\n",
    "    if os.path.exists(dest_dir):\n",
    "        shutil.rmtree(dest_dir)\n",
    "    shutil.copytree(text_dir,dest_dir)"
   ]
  },
  {
   "cell_type": "code",
   "execution_count": 54,
   "id": "ee227fc1-5bb8-46c5-b32f-5fe3a598e183",
   "metadata": {
    "execution": {
     "iopub.execute_input": "2024-11-02T20:44:25.873754Z",
     "iopub.status.busy": "2024-11-02T20:44:25.872942Z",
     "iopub.status.idle": "2024-11-02T20:44:27.846871Z",
     "shell.execute_reply": "2024-11-02T20:44:27.845108Z",
     "shell.execute_reply.started": "2024-11-02T20:44:25.873704Z"
    },
    "tags": []
   },
   "outputs": [],
   "source": [
    "\"\"\"→for file in files:\n",
    "→if page is ‘00’:\n",
    "→remove page\n",
    "\"\"\"\n",
    "\"\"\"→for file in files:\n",
    "→if “1933-1” in name and page>=9:\n",
    "→remove page\"\"\"\n",
    "reset()\n",
    "files = os.listdir(dest_dir)\n",
    "files.sort()\n",
    "for file in files:\n",
    "    disc,year,num,pagetxt = file.split(\"-\")\n",
    "    page=int(pagetxt[:-4])\n",
    "    if page==0 or ('1933-1' in file and page>=9):\n",
    "        os.remove(os.path.join(dest_dir,file))\n",
    "    "
   ]
  },
  {
   "cell_type": "code",
   "execution_count": 55,
   "id": "52c7d771-a932-42c1-8c97-09d26db1762d",
   "metadata": {
    "execution": {
     "iopub.execute_input": "2024-11-02T20:44:29.129765Z",
     "iopub.status.busy": "2024-11-02T20:44:29.129415Z",
     "iopub.status.idle": "2024-11-02T20:44:29.652450Z",
     "shell.execute_reply": "2024-11-02T20:44:29.651438Z",
     "shell.execute_reply.started": "2024-11-02T20:44:29.129748Z"
    },
    "tags": []
   },
   "outputs": [],
   "source": [
    "\"\"\"→for page in pages:\n",
    "→split text into lines\n",
    "→strip whitespace from edges of each line\n",
    "→join lines together \"\"\"\n",
    "files = os.listdir(dest_dir)\n",
    "files.sort()\n",
    "for file in files:\n",
    "    if file[0]=='.':\n",
    "        continue\n",
    "    disc,year,num,pagetxt = file.split(\"-\")\n",
    "    page=int(pagetxt[:-4])\n",
    "    path = os.path.join(dest_dir,file)\n",
    "    \n",
    "    text = open(path,'r').read()\n",
    "    \n",
    "    lines = text.split(\"\\n\")\n",
    "    lines_stripped = [l.strip() for l in lines]\n",
    "    text = \"\\n\".join(lines_stripped)\n",
    "    \n",
    "    jstor_split = text.split(\"This content downloaded from\")\n",
    "    text =jstor_split[0]\n",
    "    if page>1:\n",
    "        lines = text.split(\"\\n\")\n",
    "        no_header = lines[1:]\n",
    "        text = \"\\n\".join(no_header)\n",
    "    open(path,'w').write(text)"
   ]
  },
  {
   "cell_type": "code",
   "execution_count": null,
   "id": "80d0372b-0099-4e7d-9900-eaf51c9619d7",
   "metadata": {
    "execution": {
     "iopub.execute_input": "2024-10-31T00:01:31.073692Z",
     "iopub.status.busy": "2024-10-31T00:01:31.071543Z",
     "iopub.status.idle": "2024-10-31T00:01:31.102233Z",
     "shell.execute_reply": "2024-10-31T00:01:31.099621Z",
     "shell.execute_reply.started": "2024-10-31T00:01:31.073613Z"
    },
    "tags": []
   },
   "outputs": [],
   "source": [
    "import re\n",
    "all_caps = \"SLDKFJAD12 K\"\n",
    "not_all = 'SLDKFJAD12 Ka'\n",
    "re.search(r\"[a-z]\",not_all) is not None"
   ]
  },
  {
   "cell_type": "code",
   "execution_count": 61,
   "id": "42ad1757-6da5-498e-920d-b68226cca917",
   "metadata": {
    "execution": {
     "iopub.execute_input": "2024-11-02T20:54:28.282041Z",
     "iopub.status.busy": "2024-11-02T20:54:28.278298Z",
     "iopub.status.idle": "2024-11-02T20:54:28.460659Z",
     "shell.execute_reply": "2024-11-02T20:54:28.459732Z",
     "shell.execute_reply.started": "2024-11-02T20:54:28.281941Z"
    },
    "tags": []
   },
   "outputs": [],
   "source": [
    "abstract_dict = {\n",
    "    \"Economics-1930-0-01.txt\":\"If the shoemaker\",\n",
    "    \"Economics-1931-0-01.txt\":\"To the economist conflict\",\n",
    "    \"Economics-1932-0-01.txt\":\"In 1763\",\n",
    "    \"Economics-1936-0-01.txt\":\"This is a time\"    \n",
    "}\n",
    "step_temp = \"E4/title_page_test\"\n",
    "if os.path.exists(step_temp):\n",
    "    shutil.rmtree(step_temp)\n",
    "os.makedirs(step_temp)\n",
    "first_pages = [f for f in files if \"01.txt\" in f]\n",
    "for file in first_pages:\n",
    "    path = os.path.join(dest_dir,file)\n",
    "    text = open(path,'r').read()\n",
    "    lines = text.split(\"\\n\")\n",
    "    #save_path =os.path.join(step_temp,file)\n",
    "    save_path = os.path.join(dest_dir,file)\n",
    "    after_abstract = abstract_dict.get(file)\n",
    "    if after_abstract is not None:\n",
    "        for i,line in enumerate(lines):\n",
    "            if line.startswith(after_abstract):\n",
    "                lines = lines[i:]\n",
    "                break\n",
    "        #→find the line that starts with that text\n",
    "        #delete everything before it\n",
    "    else:\n",
    "        all_caps_line=0\n",
    "        #finding first all caps line\n",
    "        while re.search('[a-z]',lines[all_caps_line]) is not None:\n",
    "            all_caps_line+=1\n",
    "        #finding line with not all caps\n",
    "        first_real_line = all_caps_line+1\n",
    "        while re.search(r\"[a-z]\", lines[first_real_line]) is None:\n",
    "            first_real_line+=1\n",
    "        if re.search(\"Presidential [aA]ddress\",lines[first_real_line]) is not None:\n",
    "            first_real_line+=2\n",
    "            if \"1933-0\" in file or \"1934-0\" in file:\n",
    "                first_real_line+=1\n",
    "            stop_line = None\n",
    "        else: #means presidential address in footnote\n",
    "            stop_line = first_real_line\n",
    "            try:\n",
    "                while \"Presidential address\" not in lines[stop_line]:\n",
    "                    stop_line+=1\n",
    "            except:\n",
    "                print(f\"Presidential address not found in footnote for {file}\")\n",
    "                with open(save_path,'w') as f:\n",
    "                    f.write(\"\\n\".join(lines))\n",
    "        lines = lines[first_real_line:stop_line]\n",
    "    with open(save_path,'w') as f:\n",
    "        f.write(\"\\n\".join(lines))\n",
    "    #join lines and save text\n",
    "        "
   ]
  },
  {
   "cell_type": "code",
   "execution_count": null,
   "id": "cdbba7b1-b8f6-4698-a323-6ee83cfc0459",
   "metadata": {},
   "outputs": [],
   "source": [
    "\"\"\"→for page in pages:\n",
    "→make list of text split at “This content downloaded from”\n",
    "→save first item in the list as new text\"\"\""
   ]
  },
  {
   "cell_type": "code",
   "execution_count": null,
   "id": "6d6afa6a-596f-488c-8e25-1c922502f6a5",
   "metadata": {},
   "outputs": [],
   "source": [
    "\"\"\"→for page in pages:\n",
    "→if page_num>1: #if it isn’t title\n",
    "→make list of text split into lines\n",
    "→select only index 1 onward\n",
    "→join lines\"\"\""
   ]
  },
  {
   "cell_type": "code",
   "execution_count": null,
   "id": "ac99fbcf-8e8c-467e-93a7-3ddb4fb9f520",
   "metadata": {},
   "outputs": [],
   "source": [
    "\"\"\"→make dictionary of {file_name:main_text_start} for all of the pages with abstracts\n",
    "→for page in all of the page 1s:\n",
    "→if year in list of ones with abstracts:\n",
    "→look up line that starts main text for that year\n",
    "→find the line that starts with that text\n",
    "delete everything before it\n",
    "→else:\n",
    "→iterate through lines until you find one that’s all caps #should be third or fourth line\n",
    "→iterate through lines after that until you reach a line that is not all caps #because title in caps may or may not take up multiple lines\n",
    "\n",
    "→if that line starts with “Presidential address”:\n",
    "→delete next two lines\n",
    "→if file is 1933-0 or 1934-0:\n",
    "→delete the line after that as well\n",
    "→else: #means there’s a footnote\n",
    "→iterate through lines until you find one that contains “Presidential address”\n",
    "→Delete that line and everything under it\"\"\""
   ]
  },
  {
   "cell_type": "code",
   "execution_count": null,
   "id": "2ffba5a2-9f8e-4307-b39c-5aca47c71cca",
   "metadata": {
    "tags": []
   },
   "outputs": [],
   "source": [
    "\"\"\"→get last page for each year #maybe use df of pages\n",
    "→for page in last pages:\n",
    "→find line that has at least two words all caps, possibly with initials like A. B. SMITH\n",
    "→delete that line and everything past it\"\"\"\n",
    "files = os.listdir(dest_dir)\n",
    "files.sort()\n",
    "step_temp = \"E4/footnote_pages\"\n",
    "if os.path.exists(step_temp):\n",
    "    shutil.rmtree(step_temp)\n",
    "os.makedirs(step_temp)\n",
    "last_pages = []\n",
    "for i,file in enumerate(files):\n",
    "    if '01' in file and i!=0:\n",
    "        last_pages.append(files[i-1])\n",
    "for page in last_pages:\n",
    "    path = os.path.join(dest_dir,page)\n",
    "    text = open(path,'r').read()\n",
    "    lines = text.split(\"\\n\")\n",
    "    for line in lines[::-1]:\n",
    "        found = re.search(\"[A-Z\\.\\s]{5,}\",line)\n",
    "        if found is not None:\n",
    "            new_page = text.split(found.string)[0].strip()\n",
    "            with open(path,'w') as f:\n",
    "                f.write(new_page)"
   ]
  },
  {
   "cell_type": "code",
   "execution_count": null,
   "id": "ccb3b49b-5e2c-404b-bfbf-d6e3398881e2",
   "metadata": {
    "execution": {
     "iopub.execute_input": "2024-11-02T21:25:58.106789Z",
     "iopub.status.busy": "2024-11-02T21:25:58.101991Z",
     "iopub.status.idle": "2024-11-02T21:25:58.132772Z",
     "shell.execute_reply": "2024-11-02T21:25:58.129231Z",
     "shell.execute_reply.started": "2024-11-02T21:25:58.106664Z"
    }
   },
   "outputs": [],
   "source": [
    "line"
   ]
  },
  {
   "cell_type": "code",
   "execution_count": 110,
   "id": "6961a5c5-3bab-4c60-a7f6-29d9e62f1fb8",
   "metadata": {
    "execution": {
     "iopub.execute_input": "2024-11-02T21:25:18.755904Z",
     "iopub.status.busy": "2024-11-02T21:25:18.749501Z",
     "iopub.status.idle": "2024-11-02T21:25:18.791710Z",
     "shell.execute_reply": "2024-11-02T21:25:18.787212Z",
     "shell.execute_reply.started": "2024-11-02T21:25:18.754161Z"
    },
    "tags": []
   },
   "outputs": [],
   "source": [
    "re.search(r\"^([0-9]|[\\'\\\"])\",line)"
   ]
  },
  {
   "cell_type": "code",
   "execution_count": null,
   "id": "5f032113-8bde-48f9-a15e-3e573f55ee23",
   "metadata": {
    "tags": []
   },
   "outputs": [],
   "source": [
    "# →initialize empty dictionary foot_lines\n",
    "foot_lines = {}\n",
    "step_temp = \"E4/footnote_lines\"\n",
    "if os.path.exists(step_temp):\n",
    "    shutil.rmtree(step_temp)\n",
    "os.makedirs(step_temp)\n",
    "files = os.listdir(dest_dir)\n",
    "files.sort()\n",
    "for file in files:\n",
    "    fn_on_page = False\n",
    "    path = os.path.join(dest_dir,file)\n",
    "    save_path = os.path.join(step_temp,file)\n",
    "    text = open(path,'r').read()\n",
    "    lines = text.split(\"\\n\")\n",
    "    for i,line in enumerate(lines):\n",
    "        if re.search(r\"^([0-9]|[\\'\\\"])\",line) is not None:\n",
    "            if not fn_on_page:\n",
    "                fn_on_page = True\n",
    "                foot_lines[file]=[]\n",
    "            lines[i] = f\"{i}-->{line}\"\n",
    "            foot_lines[file].append(i)\n",
    "        if fn_on_page:\n",
    "            new_text = \"\\n\".join(lines)\n",
    "            with open(save_path,'w') as f:\n",
    "                f.write(new_text)\n",
    "        \n",
    "            \n",
    "# →for file in text_files:\n",
    "# →set fn_on_page to False\n",
    "# →set foot_lines[file] to empty list\n",
    "# →split text into lines\n",
    "# →for line in lines:\n",
    "# →if line starts with “,’, or a 1 or 2 digit number:\n",
    "# →if not fn_on_page: #means it hasn’t been printed yet\n",
    "# →print file name\n",
    "# →set fn_on_page to True\n",
    "# →insert “{line number}-->” at beginning of the line\n",
    "# →append line number to foot_lines[file]\n",
    "# →if fn_on_page:\n",
    "# →save new text to temporary folder\n",
    "# →print out foot_lines\n",
    "\n",
    "# →Manually:\n",
    "# →Copy and paste to new variable new_foot_lines\n",
    "# →Review the pages in temp dir with footnotes that were printed and note down the lines of any falsely flagged footnote\n",
    "# →Remove falsely flagged line numbers from new_foot_lines \n",
    "\n",
    "# →for file in text files:\n",
    "# →if file in keys of new_foot_lines:\n",
    "# →split text into lines\n",
    "# →delete all lines in new_foot_lines[file]\n",
    "# →join lines together"
   ]
  },
  {
   "cell_type": "code",
   "execution_count": null,
   "id": "099f75ed-49e3-4d0c-ad6b-ba8a1e937918",
   "metadata": {
    "execution": {
     "iopub.execute_input": "2024-11-02T21:41:02.764841Z",
     "iopub.status.busy": "2024-11-02T21:41:02.763266Z",
     "iopub.status.idle": "2024-11-02T21:41:02.787287Z",
     "shell.execute_reply": "2024-11-02T21:41:02.785714Z",
     "shell.execute_reply.started": "2024-11-02T21:41:02.764781Z"
    },
    "tags": []
   },
   "outputs": [],
   "source": [
    "foot_lines"
   ]
  },
  {
   "cell_type": "code",
   "execution_count": 123,
   "id": "7750d366-46d4-44d2-9f42-eca30bdcfb82",
   "metadata": {
    "execution": {
     "iopub.execute_input": "2024-11-02T22:02:50.640438Z",
     "iopub.status.busy": "2024-11-02T22:02:50.632235Z",
     "iopub.status.idle": "2024-11-02T22:02:50.736916Z",
     "shell.execute_reply": "2024-11-02T22:02:50.735469Z",
     "shell.execute_reply.started": "2024-11-02T22:02:50.640224Z"
    }
   },
   "outputs": [],
   "source": [
    "edited_foot_lines = {\n",
    "'Economics-1920-0-02.txt': [],\n",
    " 'Economics-1920-0-12.txt': [],\n",
    " 'Economics-1920-0-13.txt': [29, 32, 39],\n",
    " 'Economics-1922-0-01.txt': [],\n",
    " 'Economics-1922-0-02.txt': [38, 39, 42],\n",
    " 'Economics-1922-0-03.txt': [37, 38, 39, 40, 41, 42],\n",
    " 'Economics-1922-0-05.txt': [42],\n",
    " 'Economics-1922-0-06.txt': [38, 39, 40, 41, 43],\n",
    " 'Economics-1922-0-07.txt': [38, 39, 40, 41],\n",
    " 'Economics-1922-0-08.txt': [37, 39, 40],\n",
    " 'Economics-1922-0-10.txt': [],\n",
    " 'Economics-1922-0-11.txt': [38, 40, 42],\n",
    " 'Economics-1922-0-12.txt': [41, 42],\n",
    " 'Economics-1922-0-13.txt': [ 36, 37, 39],\n",
    " 'Economics-1922-0-14.txt': [42, 43],\n",
    " 'Economics-1922-0-15.txt': [39, 40],\n",
    " 'Economics-1922-0-16.txt': [40, 41],\n",
    " 'Economics-1922-0-17.txt': [42],\n",
    " 'Economics-1923-0-02.txt': [39],\n",
    " 'Economics-1923-0-03.txt': [33],\n",
    " 'Economics-1923-0-04.txt': [36],\n",
    " 'Economics-1923-0-07.txt': [39, 40, 43],\n",
    " 'Economics-1923-0-08.txt': [35, 40, 41, 43],\n",
    " 'Economics-1923-0-09.txt': [40],\n",
    " 'Economics-1923-0-11.txt': [41],\n",
    " 'Economics-1924-0-01.txt': [],\n",
    " 'Economics-1924-0-02.txt': [43],\n",
    " 'Economics-1924-0-03.txt': [41, 43, 44],\n",
    " 'Economics-1924-0-04.txt': [],\n",
    " 'Economics-1924-0-05.txt': [],\n",
    " 'Economics-1924-0-06.txt': [],\n",
    " 'Economics-1924-0-08.txt': [42],\n",
    " 'Economics-1926-0-01.txt': [29, 30, 31],\n",
    " 'Economics-1926-0-05.txt': [42],\n",
    " 'Economics-1926-0-06.txt': [42],\n",
    " 'Economics-1926-0-08.txt': [41, 43],\n",
    " 'Economics-1926-0-11.txt': [42],\n",
    " 'Economics-1926-0-12.txt': [ 41],\n",
    " 'Economics-1928-0-01.txt': [],\n",
    " 'Economics-1928-0-03.txt': [],\n",
    " 'Economics-1928-0-05.txt': [],\n",
    " 'Economics-1928-0-06.txt': [42],\n",
    " 'Economics-1928-0-08.txt': [],\n",
    " 'Economics-1930-0-05.txt': [],\n",
    " 'Economics-1932-0-03.txt': [],\n",
    " 'Economics-1933-1-01.txt': [ 28],\n",
    " 'Economics-1933-1-02.txt': [],\n",
    " 'Economics-1933-1-03.txt': [],\n",
    " 'Economics-1933-1-04.txt': [],\n",
    " 'Economics-1933-1-06.txt': [],\n",
    " 'Economics-1935-0-03.txt': [40],\n",
    " 'Economics-1935-0-04.txt': [40],\n",
    " 'Economics-1935-0-05.txt': [40],\n",
    " 'Economics-1935-0-08.txt': [],\n",
    " 'Economics-1935-0-11.txt': [39],\n",
    " 'Economics-1936-0-01.txt': [],\n",
    " 'Economics-1939-0-04.txt': [],\n",
    " 'Economics-1939-0-05.txt': [39],\n",
    " 'Economics-1939-0-06.txt': [39, 40, 41, 43],\n",
    " 'Economics-1939-0-11.txt': [41],\n",
    " 'Economics-1939-0-12.txt': [41],\n",
    " 'Economics-1940-0-04.txt': [],\n",
    " 'Economics-1940-0-14.txt': [],\n",
    " 'Economics-1941-0-09.txt': [42],\n",
    " 'Economics-1941-0-11.txt': [41]}\n",
    "# took about 20 minutes to go through\n",
    "# Had to look at both texts and pdfs"
   ]
  },
  {
   "cell_type": "code",
   "execution_count": 126,
   "id": "cbe811a1-4f03-45b4-99b2-090d0ea59d80",
   "metadata": {
    "execution": {
     "iopub.execute_input": "2024-11-02T22:05:11.820644Z",
     "iopub.status.busy": "2024-11-02T22:05:11.818965Z",
     "iopub.status.idle": "2024-11-02T22:05:12.023092Z",
     "shell.execute_reply": "2024-11-02T22:05:12.022440Z",
     "shell.execute_reply.started": "2024-11-02T22:05:11.820567Z"
    },
    "tags": []
   },
   "outputs": [],
   "source": [
    "for file,vals in edited_foot_lines.items():\n",
    "    if vals!=[]:\n",
    "        first_foot_line = min(vals)\n",
    "        path = os.path.join(dest_dir,file)\n",
    "        text = open(path,'r').read()\n",
    "        lines = text.split(\"\\n\")\n",
    "        lines_cut = lines[:first_foot_line]\n",
    "        with open(path,'w') as f:\n",
    "            f.write('\\n'.join(lines_cut))"
   ]
  },
  {
   "cell_type": "code",
   "execution_count": 131,
   "id": "962d69d6-488d-4889-a70c-d3b23c5950cc",
   "metadata": {
    "execution": {
     "iopub.execute_input": "2024-11-03T17:35:18.380756Z",
     "iopub.status.busy": "2024-11-03T17:35:18.343785Z",
     "iopub.status.idle": "2024-11-03T17:35:19.319750Z",
     "shell.execute_reply": "2024-11-03T17:35:19.318700Z",
     "shell.execute_reply.started": "2024-11-03T17:35:18.380454Z"
    }
   },
   "outputs": [],
   "source": [
    "### remove blank lines\n",
    "files = os.listdir(dest_dir)\n",
    "files.sort()\n",
    "for file in files:\n",
    "    if file[0]=='.':\n",
    "        continue\n",
    "    path = os.path.join(dest_dir,file)\n",
    "    text = open(path,'r').read()\n",
    "    open(path,'w').write(text.strip())"
   ]
  },
  {
   "cell_type": "code",
   "execution_count": null,
   "id": "75cb5706-e2d3-47f0-8ded-c13d2b66af5f",
   "metadata": {
    "execution": {
     "iopub.execute_input": "2024-11-03T17:47:48.829409Z",
     "iopub.status.busy": "2024-11-03T17:47:48.827225Z",
     "iopub.status.idle": "2024-11-03T17:47:48.911071Z",
     "shell.execute_reply": "2024-11-03T17:47:48.854120Z",
     "shell.execute_reply.started": "2024-11-03T17:47:48.829322Z"
    }
   },
   "outputs": [],
   "source": [
    "dest_dir"
   ]
  },
  {
   "cell_type": "code",
   "execution_count": 161,
   "id": "800d65b5-3353-4acc-a3a5-009ab13afc68",
   "metadata": {
    "execution": {
     "iopub.execute_input": "2024-11-03T17:49:12.594262Z",
     "iopub.status.busy": "2024-11-03T17:49:12.591605Z",
     "iopub.status.idle": "2024-11-03T17:49:12.924590Z",
     "shell.execute_reply": "2024-11-03T17:49:12.924031Z",
     "shell.execute_reply.started": "2024-11-03T17:49:12.594148Z"
    },
    "tags": []
   },
   "outputs": [],
   "source": [
    "### Deal with line breaks against pages\n",
    "import itertools as it\n",
    "files = os.listdir(dest_dir)\n",
    "files.sort()\n",
    "for first,second in it.pairwise(files):\n",
    "    if not first.split(\"-\")[:3]==second.split('-')[:3]:\n",
    "        continue\n",
    "    path1 = os.path.join(dest_dir,first)\n",
    "    text1 = open(path1,'r').read()\n",
    "    if text1[-1]==\"-\":\n",
    "        #print(first)\n",
    "        #print(text1.strip().split(\"\\n\")[-1])\n",
    "        path2 = os.path.join(dest_dir,second)\n",
    "        text2 = open(path2,'r').read()\n",
    "        first_word = re.search(\"^([^\\s]+)\\s\",text2).group(1)\n",
    "        new_text2 = re.sub(\"^[^\\s]+\\s\",\"\",text2)\n",
    "        #print(first_word)\n",
    "        \n",
    "        new_text1 = text1[:-1]+first_word\n",
    "        open(path1,'w').write(new_text1.strip())\n",
    "        open(path2,'w').write(new_text2.strip())"
   ]
  },
  {
   "cell_type": "code",
   "execution_count": 162,
   "id": "582929e7-365d-48bb-a88e-65b5b7f6565a",
   "metadata": {
    "execution": {
     "iopub.execute_input": "2024-11-04T18:45:51.335120Z",
     "iopub.status.busy": "2024-11-04T18:45:51.311408Z",
     "iopub.status.idle": "2024-11-04T18:45:52.262734Z",
     "shell.execute_reply": "2024-11-04T18:45:52.262115Z",
     "shell.execute_reply.started": "2024-11-04T18:45:51.335035Z"
    }
   },
   "outputs": [],
   "source": [
    "### remove dash errors\n",
    "def fix_dash_errors(text):\n",
    "    new_text = re.sub(r\"([a-zA-Z]+)-\\n([a-zA-Z]+)([^\\w\\n\\s])?\", # Captures 3 groups: first half of word, second half of word, optional punctuation\n",
    "                      r\"\\1\\2\\3\\n\", #removes dash and moves line break\n",
    "                      text)\n",
    "    new_text_lines_stripped=[line.strip() for line in new_text.split('\\n')] #remove any extra leading or trailing whitespace\n",
    "    return \"\\n\".join(new_text_lines_stripped) #join lines back together\n",
    "files = os.listdir(dest_dir)\n",
    "files.sort()\n",
    "for file in files:\n",
    "    if file[0]=='.':\n",
    "        continue\n",
    "    path = os.path.join(dest_dir,file)\n",
    "    text = open(path,'r').read()\n",
    "    new_text = fix_dash_errors(text)\n",
    "    open(path,'w').write(new_text)"
   ]
  },
  {
   "cell_type": "markdown",
   "id": "bd0c1869-ed59-4a1d-9e14-5d2543fc69f2",
   "metadata": {
    "jp-MarkdownHeadingCollapsed": true,
    "tags": []
   },
   "source": [
    "## edited foot lines:\n"
   ]
  },
  {
   "cell_type": "markdown",
   "id": "7a06a351-db0c-4073-8f60-f846ee15c19f",
   "metadata": {},
   "source": [
    "```\n",
    "{\n",
    "    'Economics-1920-0-02.txt': [],\n",
    " 'Economics-1920-0-12.txt': [],\n",
    " 'Economics-1920-0-13.txt': [29, 32, 39],\n",
    " 'Economics-1922-0-01.txt': [],\n",
    " 'Economics-1922-0-02.txt': [38, 39, 42],\n",
    " 'Economics-1922-0-03.txt': [37, 38, 39, 40, 41, 42],\n",
    " 'Economics-1922-0-05.txt': [42],\n",
    " 'Economics-1922-0-06.txt': [38, 39, 40, 41, 43],\n",
    " 'Economics-1922-0-07.txt': [38, 39, 40, 41],\n",
    " 'Economics-1922-0-08.txt': [37, 39, 40],\n",
    " 'Economics-1922-0-10.txt': [],\n",
    " 'Economics-1922-0-11.txt': [38, 40, 42],\n",
    " 'Economics-1922-0-12.txt': [41, 42],\n",
    " 'Economics-1922-0-13.txt': [ 36, 37, 39],\n",
    " 'Economics-1922-0-14.txt': [42, 43],\n",
    " 'Economics-1922-0-15.txt': [39, 40],\n",
    " 'Economics-1922-0-16.txt': [40, 41],\n",
    " 'Economics-1922-0-17.txt': [42],\n",
    " 'Economics-1923-0-02.txt': [39],\n",
    " 'Economics-1923-0-03.txt': [33],\n",
    " 'Economics-1923-0-04.txt': [36],\n",
    " 'Economics-1923-0-07.txt': [39, 40, 43],\n",
    " 'Economics-1923-0-08.txt': [35, 40, 41, 43],\n",
    " 'Economics-1923-0-09.txt': [40],\n",
    " 'Economics-1923-0-11.txt': [41],\n",
    " 'Economics-1924-0-01.txt': [],\n",
    " 'Economics-1924-0-02.txt': [43],\n",
    " 'Economics-1924-0-03.txt': [41, 43, 44],\n",
    " 'Economics-1924-0-04.txt': [],\n",
    " 'Economics-1924-0-05.txt': [],\n",
    " 'Economics-1924-0-06.txt': [],\n",
    " 'Economics-1924-0-08.txt': [42],\n",
    " 'Economics-1926-0-01.txt': [29, 30, 31],\n",
    " 'Economics-1926-0-05.txt': [42],\n",
    " 'Economics-1926-0-06.txt': [42],\n",
    " 'Economics-1926-0-08.txt': [41, 43],\n",
    " 'Economics-1926-0-11.txt': [42],\n",
    " 'Economics-1926-0-12.txt': [ 41],\n",
    " 'Economics-1928-0-01.txt': [],\n",
    " 'Economics-1928-0-03.txt': [],\n",
    " 'Economics-1928-0-05.txt': [],\n",
    " 'Economics-1928-0-06.txt': [42],\n",
    " 'Economics-1928-0-08.txt': [],\n",
    " 'Economics-1930-0-05.txt': [],\n",
    " 'Economics-1932-0-03.txt': [],\n",
    " 'Economics-1933-1-01.txt': [ 28],\n",
    " 'Economics-1933-1-02.txt': [],\n",
    " 'Economics-1933-1-03.txt': [],\n",
    " 'Economics-1933-1-04.txt': [],\n",
    " 'Economics-1933-1-06.txt': [],\n",
    " 'Economics-1935-0-03.txt': [40],\n",
    " 'Economics-1935-0-04.txt': [40],\n",
    " 'Economics-1935-0-05.txt': [40],\n",
    " 'Economics-1935-0-08.txt': [],\n",
    " 'Economics-1935-0-11.txt': [39],\n",
    " 'Economics-1936-0-01.txt': [],\n",
    " 'Economics-1939-0-04.txt': [],\n",
    " 'Economics-1939-0-05.txt': [39],\n",
    " 'Economics-1939-0-06.txt': [39, 40, 41, 43],\n",
    " 'Economics-1939-0-11.txt': [41],\n",
    " 'Economics-1939-0-12.txt': [41],\n",
    " 'Economics-1940-0-04.txt': [],\n",
    " 'Economics-1940-0-14.txt': [],\n",
    " 'Economics-1941-0-09.txt': [42],\n",
    " 'Economics-1941-0-11.txt': [41]}\n",
    "```"
   ]
  }
 ],
 "metadata": {
  "kernelspec": {
   "display_name": "Python 3 (ipykernel)",
   "language": "python",
   "name": "python3"
  },
  "language_info": {
   "codemirror_mode": {
    "name": "ipython",
    "version": 3
   },
   "file_extension": ".py",
   "mimetype": "text/x-python",
   "name": "python",
   "nbconvert_exporter": "python",
   "pygments_lexer": "ipython3",
   "version": "3.10.8"
  }
 },
 "nbformat": 4,
 "nbformat_minor": 5
}
