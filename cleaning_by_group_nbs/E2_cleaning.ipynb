{
 "cells": [
  {
   "cell_type": "code",
   "execution_count": 6,
   "id": "d26f4a97-f7ca-4ad9-8fa8-a833383146e1",
   "metadata": {
    "execution": {
     "iopub.execute_input": "2024-11-14T20:42:37.853081Z",
     "iopub.status.busy": "2024-11-14T20:42:37.847704Z",
     "iopub.status.idle": "2024-11-14T20:42:37.939432Z",
     "shell.execute_reply": "2024-11-14T20:42:37.935541Z",
     "shell.execute_reply.started": "2024-11-14T20:42:37.852532Z"
    },
    "tags": []
   },
   "outputs": [],
   "source": [
    "import os\n",
    "import shutil\n",
    "import re\n",
    "import itertools as it\n",
    "os.chdir(\"/Users/BeckyMarcusMacbook/Thesis/EconTextCleaning/\")\n",
    "text_dir = \"data/groups/E2/texts\"\n",
    "dest_dir = \"data/temp/E2\"\n",
    "def reset():\n",
    "    rm_ds(text_dir)\n",
    "    if os.path.exists(dest_dir):\n",
    "        shutil.rmtree(dest_dir)\n",
    "    shutil.copytree(text_dir,dest_dir)\n",
    "def rm_ds(dir):\n",
    "    for file in os.listdir(dir):\n",
    "        if file==\".DS_Store\":\n",
    "            os.remove(os.path.join(dir,file))"
   ]
  },
  {
   "cell_type": "code",
   "execution_count": null,
   "id": "2a5a0959-e314-4fca-9c80-ae93f288e712",
   "metadata": {
    "execution": {
     "iopub.execute_input": "2024-11-07T20:35:38.183737Z",
     "iopub.status.busy": "2024-11-07T20:35:38.174005Z",
     "iopub.status.idle": "2024-11-07T20:35:38.209397Z",
     "shell.execute_reply": "2024-11-07T20:35:38.203495Z",
     "shell.execute_reply.started": "2024-11-07T20:35:38.183569Z"
    },
    "tags": []
   },
   "outputs": [],
   "source": [
    "# jstor cover\n",
    "# Every page except for the title and cover page had exactly one header line\n",
    "# Page 00 was cover\n",
    "# Page num at bottom in 1888-0-1, a couple other floating numbers we can get rid of\n",
    "# only footnotes 1889 pages 1 and 24\n",
    "# Title page:\n",
    "    #1888: Get rid of top 5 lines\n",
    "    #1889 get rid of top 2 lines, bottom 4\n",
    "\"\"\"\n",
    "Seeing always line 1 being removable:\n",
    "    Sometimes also line 2, especially around 1900 when first or second line is 1-2 characters long\n",
    "    We can also remove any line that is <=3 characters long, then the first line\n",
    "Footnotes start with *\n",
    "    1894 loves her\n",
    "    Weird footnote on 1894-06:starts with '£500. T'\n",
    "    1894-0-19: * doesn't show up, following line marked with t like character\n",
    "        Maybe just look for line that ends with floating lowercase t and go after that\n",
    "    Also some footnotes have their own line, they're not split, just extra long and wrapped\n",
    "    Footnote in 1904, marked with '1 '\n",
    "Some have page numbers on last line\n",
    "    1894-0-18 had number on in line with the text, just at the end of it and separated by a lots of spaces\n",
    "Capitalized author on last page of 1893, 1894, not 1891, but maybe can look for pattern\n",
    "    {'1893':15, '1894':21}\n",
    "1900 in rough shape, needs to be re-ocred\n",
    "1901-01-03 has footnote too, marked with '1 '\n",
    "    Honestly don't worry about that one\n",
    "    \n",
    "First pages:\n",
    "1892: No lowercase in second line then good\n",
    "1893,1894: ONly first line\n",
    "1895: No lowercase until first real line\n",
    "1900,1901, 1902: has <=2 lowercase letter in one of the title lines as an error\n",
    "Works for all of them: Lines with <=2 lowercase letters on first page\n",
    "\"\"\"\n"
   ]
  },
  {
   "cell_type": "code",
   "execution_count": 19,
   "id": "ee227fc1-5bb8-46c5-b32f-5fe3a598e183",
   "metadata": {
    "execution": {
     "iopub.execute_input": "2024-11-14T20:42:50.402657Z",
     "iopub.status.busy": "2024-11-14T20:42:50.352897Z",
     "iopub.status.idle": "2024-11-14T20:42:52.690933Z",
     "shell.execute_reply": "2024-11-14T20:42:52.688733Z",
     "shell.execute_reply.started": "2024-11-14T20:42:50.402558Z"
    },
    "tags": []
   },
   "outputs": [],
   "source": [
    "\"\"\"→for file in files:\n",
    "→if page is ‘00’:\n",
    "→remove page\n",
    "\"\"\"\n",
    "reset()\n",
    "files = os.listdir(dest_dir)\n",
    "files.sort()\n",
    "for file in files:\n",
    "    disc,year,num,pagetxt = file.split(\"-\")\n",
    "    page=int(pagetxt[:-4])\n",
    "    if page==0:\n",
    "        os.remove(os.path.join(dest_dir,file))"
   ]
  },
  {
   "cell_type": "code",
   "execution_count": null,
   "id": "52c7d771-a932-42c1-8c97-09d26db1762d",
   "metadata": {
    "execution": {
     "iopub.execute_input": "2024-11-14T20:43:02.246579Z",
     "iopub.status.busy": "2024-11-14T20:43:02.236769Z",
     "iopub.status.idle": "2024-11-14T20:43:02.916495Z",
     "shell.execute_reply": "2024-11-14T20:43:02.915870Z",
     "shell.execute_reply.started": "2024-11-14T20:43:02.246494Z"
    },
    "tags": []
   },
   "outputs": [],
   "source": [
    "\"\"\"→for page in pages:\n",
    "get rid of jstor footer\n",
    "→split text into lines\n",
    "→strip whitespace from edges of each line\n",
    "if not title page:\n",
    "    Only Get everything after first line\n",
    "    if length of last line is 1, delete that line\n",
    "    if year = 1889 and page=24:\n",
    "        get rid of the bottom line\n",
    "else:\n",
    "    if year is 1888:\n",
    "        get rid of top 5 lines\n",
    "    else:\n",
    "        get rid of top 2, bottom 4 lines\n",
    "join lines together\n",
    "strip whole text\n",
    "    \n",
    "\"\"\"\n",
    "files = os.listdir(dest_dir)\n",
    "files.sort()\n",
    "for file in files:\n",
    "    if file[0]=='.':\n",
    "        continue\n",
    "    disc,year,num,pagetxt = file.split(\"-\")\n",
    "    page=int(pagetxt[:-4])\n",
    "    path = os.path.join(dest_dir,file)\n",
    "    \n",
    "    text = open(path,'r').read()\n",
    "    jstor_split = text.split(\"This content downloaded from\")\n",
    "    text =jstor_split[0].strip()\n",
    "    lines = text.split(\"\\n\")\n",
    "    lines = [l.strip() for l in lines]\n",
    "    filtered_lines = [l for l in lines if len(l)>3]\n",
    "    if page!=1:\n",
    "        save_lines = filtered_lines[1:]\n",
    "        if (year=='1893' and page==15 or year=='1894' and page==21):\n",
    "            for i,line in enumerate(save_lines[::-1]):\n",
    "                line_num = (i+1) *-1\n",
    "                if re.search(\"[a-z]\",line) is None:\n",
    "                    save_lines = save_lines[:line_num]\n",
    "                    break\n",
    "    else:\n",
    "        line_num=0\n",
    "        lower_case_line=False\n",
    "        any_upper =False\n",
    "        while True:\n",
    "            if len(re.findall(r'[a-z]',filtered_lines[line_num]))>2 and any_upper:\n",
    "                break\n",
    "            line_num+=1\n",
    "            any_upper=True\n",
    "        save_lines = filtered_lines[line_num:]\n",
    "\n",
    "    text = \"\\n\".join(save_lines)\n",
    "    with open(path,'w') as f:\n",
    "        f.write(text)"
   ]
  },
  {
   "cell_type": "code",
   "execution_count": 22,
   "id": "800d65b5-3353-4acc-a3a5-009ab13afc68",
   "metadata": {
    "execution": {
     "iopub.execute_input": "2024-11-14T20:43:08.603060Z",
     "iopub.status.busy": "2024-11-14T20:43:08.599751Z",
     "iopub.status.idle": "2024-11-14T20:43:09.005224Z",
     "shell.execute_reply": "2024-11-14T20:43:09.004572Z",
     "shell.execute_reply.started": "2024-11-14T20:43:08.602945Z"
    },
    "tags": []
   },
   "outputs": [],
   "source": [
    "### Deal with line breaks across pages\n",
    "files = os.listdir(dest_dir)\n",
    "files.sort()\n",
    "for first,second in it.pairwise(files):\n",
    "    if first.split(\"-\")[:3] != second.split(\"-\")[:3]:\n",
    "        continue\n",
    "    path1 = os.path.join(dest_dir, first)\n",
    "    path2 = os.path.join(dest_dir, second)\n",
    "\n",
    "    with open(path1, 'r') as f1, open(path2, 'r') as f2:\n",
    "        text1 = f1.read()\n",
    "        text2 = f2.read()\n",
    "\n",
    "    if text1.endswith(\"-\"):\n",
    "        first_word = re.match(r\"^\\S+\", text2).group()\n",
    "        new_text2 = re.sub(r\"^\\S+\\s\", \"\", text2)\n",
    "        new_text1 = text1[:-1] + first_word\n",
    "\n",
    "        with open(path1, 'w') as f1, open(path2, 'w') as f2:\n",
    "            f1.write(new_text1.strip())\n",
    "            f2.write(new_text2.strip())\n"
   ]
  },
  {
   "cell_type": "code",
   "execution_count": 23,
   "id": "582929e7-365d-48bb-a88e-65b5b7f6565a",
   "metadata": {
    "execution": {
     "iopub.execute_input": "2024-11-14T20:43:11.273223Z",
     "iopub.status.busy": "2024-11-14T20:43:11.270543Z",
     "iopub.status.idle": "2024-11-14T20:43:11.896652Z",
     "shell.execute_reply": "2024-11-14T20:43:11.895853Z",
     "shell.execute_reply.started": "2024-11-14T20:43:11.273133Z"
    },
    "tags": []
   },
   "outputs": [],
   "source": [
    "### remove dash errors\n",
    "def fix_dash_errors(text):\n",
    "    new_text = re.sub(r\"([a-zA-Z]+)\\-+\\n([a-zA-Z]+)([^\\w\\n\\s])?\", # Captures 3 groups: first half of word, second half of word, optional punctuation\n",
    "                      r\"\\1\\2\\3\\n\", #removes dash and moves line break\n",
    "                      text)\n",
    "    new_text_lines_stripped=[line.strip() for line in new_text.split('\\n')] #remove any extra leading or trailing whitespace\n",
    "    return \"\\n\".join(new_text_lines_stripped) #join lines back together\n",
    "files = os.listdir(dest_dir)\n",
    "files.sort()\n",
    "for file in files:\n",
    "    if file[0]=='.':\n",
    "        continue\n",
    "    path = os.path.join(dest_dir,file)\n",
    "    text = open(path,'r').read()\n",
    "    new_text = fix_dash_errors(text)\n",
    "    open(path,'w').write(new_text)"
   ]
  },
  {
   "cell_type": "markdown",
   "id": "ec84c01d",
   "metadata": {},
   "source": [
    "### Handling footnotes"
   ]
  },
  {
   "cell_type": "code",
   "execution_count": 30,
   "id": "8f7ce8b4-2b74-43ee-be1a-1b754c11b72a",
   "metadata": {},
   "outputs": [],
   "source": [
    "foot_lines = {}\n",
    "step_temp = \"manual_work/E4/.footnote_orig\"\n",
    "if os.path.exists(step_temp):\n",
    "    shutil.rmtree(step_temp)\n",
    "os.makedirs(step_temp)\n",
    "files = os.listdir(dest_dir)\n",
    "files.sort()\n",
    "for file in files:\n",
    "    fn_on_page = False\n",
    "    path = os.path.join(dest_dir,file)\n",
    "    save_path = os.path.join(step_temp,file)\n",
    "    text = open(path,'r').read()\n",
    "    lines = text.split(\"\\n\")\n",
    "    if file == \"Economics-1894-0-19.txt\":\n",
    "        for i,line in enumerate(lines):\n",
    "            if re.search(r\" t$\",line):\n",
    "                if not fn_on_page:\n",
    "                    fn_on_page = True\n",
    "                    foot_lines[file]=[]\n",
    "                lines[i+1] = f\"{i+1}-->{line}\"\n",
    "                foot_lines[file].append(i+1)\n",
    "                break\n",
    "    else:\n",
    "        for i,line in enumerate(lines):\n",
    "            if re.search(r\"^(\\*|£)\",line) is not None:\n",
    "                if not fn_on_page:\n",
    "                    fn_on_page = True\n",
    "                    foot_lines[file]=[]\n",
    "                lines[i] = f\"{i}-->{line}\"\n",
    "                foot_lines[file].append(i)\n",
    "    if fn_on_page:\n",
    "        new_text = \"\\n\".join(lines)\n",
    "        with open(save_path,'w') as f:\n",
    "            f.write(new_text)"
   ]
  },
  {
   "cell_type": "code",
   "execution_count": 31,
   "id": "b5ad2d4d",
   "metadata": {},
   "outputs": [
    {
     "data": {
      "text/plain": [
       "{'Economics-1893-0-01.txt': [28],\n",
       " 'Economics-1894-0-05.txt': [29, 32],\n",
       " 'Economics-1894-0-06.txt': [33],\n",
       " 'Economics-1894-0-07.txt': [34],\n",
       " 'Economics-1894-0-11.txt': [36],\n",
       " 'Economics-1894-0-12.txt': [35],\n",
       " 'Economics-1894-0-14.txt': [28],\n",
       " 'Economics-1894-0-15.txt': [28],\n",
       " 'Economics-1894-0-16.txt': [35],\n",
       " 'Economics-1894-0-19.txt': [29],\n",
       " 'Economics-1903-0-08.txt': [9]}"
      ]
     },
     "execution_count": 31,
     "metadata": {},
     "output_type": "execute_result"
    }
   ],
   "source": [
    "foot_lines"
   ]
  },
  {
   "cell_type": "code",
   "execution_count": 32,
   "id": "105a7744",
   "metadata": {},
   "outputs": [],
   "source": [
    "edited_foot_lines = {\n",
    "    'Economics-1893-0-01.txt': [28],\n",
    " 'Economics-1894-0-05.txt': [29, 32],\n",
    " 'Economics-1894-0-06.txt': [33],\n",
    " 'Economics-1894-0-07.txt': [34],\n",
    " 'Economics-1894-0-11.txt': [36],\n",
    " 'Economics-1894-0-12.txt': [35],\n",
    " 'Economics-1894-0-14.txt': [28],\n",
    " 'Economics-1894-0-15.txt': [28],\n",
    " 'Economics-1894-0-16.txt': [35],\n",
    " 'Economics-1894-0-19.txt': [29],\n",
    " 'Economics-1903-0-08.txt': []}\n",
    "for file,vals in edited_foot_lines.items():\n",
    "    if vals!=[]:\n",
    "        first_foot_line = min(vals)\n",
    "        path = os.path.join(dest_dir,file)\n",
    "        text = open(path,'r').read()\n",
    "        lines = text.split(\"\\n\")\n",
    "        lines_cut = lines[:first_foot_line]\n",
    "        with open(path,'w') as f:\n",
    "            f.write('\\n'.join(lines_cut))"
   ]
  },
  {
   "cell_type": "code",
   "execution_count": null,
   "id": "b7f4b439",
   "metadata": {},
   "outputs": [],
   "source": []
  }
 ],
 "metadata": {
  "kernelspec": {
   "display_name": "thesis_env",
   "language": "python",
   "name": "python3"
  },
  "language_info": {
   "codemirror_mode": {
    "name": "ipython",
    "version": 3
   },
   "file_extension": ".py",
   "mimetype": "text/x-python",
   "name": "python",
   "nbconvert_exporter": "python",
   "pygments_lexer": "ipython3",
   "version": "3.12.8"
  }
 },
 "nbformat": 4,
 "nbformat_minor": 5
}
